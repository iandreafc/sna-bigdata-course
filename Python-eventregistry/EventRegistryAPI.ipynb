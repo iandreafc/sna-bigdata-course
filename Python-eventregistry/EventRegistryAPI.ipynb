{
 "cells": [
  {
   "cell_type": "markdown",
   "metadata": {},
   "source": [
    "## Example Python script for downloading articles from the Event Registry database"
   ]
  },
  {
   "cell_type": "markdown",
   "metadata": {},
   "source": [
    "As a first step we import all necessary libraries and define a search query."
   ]
  },
  {
   "cell_type": "code",
   "execution_count": null,
   "metadata": {},
   "outputs": [],
   "source": [
    "import csv, os\n",
    "from eventregistry import *\n",
    "import datetime\n",
    "\n",
    "#Please register on eventregistry.org and update the API Key.\n",
    "er = EventRegistry(apiKey = \"PUT YOUR API KEY HERE\")\n",
    "\n",
    "## TWO ALTERNATIVES\n",
    "#1) QUERY BASED ON ARTICLE CATEGORIES\n",
    "q = QueryArticlesIter(conceptUri = QueryItems.OR([er.getConceptUri(\"Politics\"),er.getConceptUri(\"Election\"),er.getConceptUri(\"Referendum\"),er.getConceptUri(\"Elections in Italy\"),\\\n",
    "                      er.getConceptUri(\"Political party\"),er.getConceptUri(\"Political campaign\"),er.getConceptUri(\"Referendums in Italy\"),er.getConceptUri(\"Politician\"),er.getConceptUri(\"General election\")]),\\\n",
    "                      dateStart = datetime.date(2016, 10, 3), dateEnd = datetime.date(2016, 12, 4),\\\n",
    "                      isDuplicateFilter = \"skipDuplicates\",\\\n",
    "                      lang = \"ita\")\n",
    "\n",
    "#2) QUERY BASED ON KEYWORDS CONTAINED IN THE ARTICLE TEXT\n",
    "q = QueryArticlesIter(keywords =QueryItems.AND([\"salvini\", \"carola\"]), \\\n",
    "                      dateStart = datetime.date(2019, 7, 1), dateEnd = datetime.date(2019, 7, 19),\\\n",
    "                      isDuplicateFilter = \"skipDuplicates\",\\\n",
    "                      lang = \"ita\")\n",
    "print(q)"
   ]
  },
  {
   "cell_type": "markdown",
   "metadata": {},
   "source": [
    "Now we can run the search query and save the data in a csv file."
   ]
  },
  {
   "cell_type": "code",
   "execution_count": null,
   "metadata": {},
   "outputs": [],
   "source": [
    "#Replace chars that might generate problems\n",
    "import re\n",
    "def replacechar (text):\n",
    "    rep = {\"\\n\": \" \", \n",
    "           \",\": \" \", \n",
    "           \";\":\" \", \n",
    "           \"|\": \" \",\n",
    "           \"\\r\": \" \"} \n",
    "    rep = dict((re.escape(k), v) for k, v in rep.items()) \n",
    "    pattern = re.compile(\"|\".join(rep.keys()))\n",
    "    text = pattern.sub(lambda m: rep[re.escape(m.group(0))], text)\n",
    "    return text\n",
    "\n",
    "#Create a CSV file\n",
    "ff = open(\"XXX.csv\",'w', encoding='utf8', newline='')\n",
    "wr = csv.writer(ff, delimiter = '|', quotechar = '^')\n",
    "wr.writerow(['Title', 'Body', 'Date', 'Language', 'Source', 'Category', 'Concepts', 'Sentiment', 'IsDuplicate', 'Url'])\n",
    "\n",
    "#Sort articles by date and define their max number (multiples of 100)\n",
    "for art in q.execQuery(er, sortBy = \"date\", maxItems = 10000):\n",
    "    try:\n",
    "        title = replacechar(art['title'])\n",
    "    except:\n",
    "        title = \"\"\n",
    "        \n",
    "    try:\n",
    "        body = replacechar(art['body'])\n",
    "    except:\n",
    "        body = \"\"\n",
    "        \n",
    "    try:\n",
    "        date = replacechar(art['date'])\n",
    "    except:\n",
    "        date = \"\"\n",
    "        \n",
    "    try:\n",
    "        source = replacechar(art['source']['title'])\n",
    "    except:\n",
    "        source = \"\"\n",
    "        \n",
    "    try:\n",
    "        lang = replacechar(art['lang'])\n",
    "    except:\n",
    "        lang = \"\"\n",
    "        \n",
    "    try:\n",
    "        sent = art['sentiment']\n",
    "    except:\n",
    "        sent = \"\"\n",
    "        \n",
    "    try:\n",
    "        cat = art['categories'].replace(\",\", \"//\").replace('\"', \" \").replace('\\r', ' ').replace('\\n', ' ').replace('|', ' ')\n",
    "    except:\n",
    "        cat = \"\"\n",
    "        \n",
    "    try:\n",
    "        concept = art['concepts'].replace(\",\", \"//\").replace('\"', \" \").replace('\\r', ' ').replace('\\n', ' ').replace('|', ' ')\n",
    "    except:\n",
    "        concept = \"\"      \n",
    "    \n",
    "    newline = [title, body, date, lang, source, cat, concept, sent, str(art['isDuplicate']), art['url'] ]\n",
    "    wr.writerow(newline)\n",
    "    ff.flush()\n",
    "    \n",
    "ff.close()\n",
    "print(\"Done!\")"
   ]
  }
 ],
 "metadata": {
  "kernelspec": {
   "display_name": "Python 3",
   "language": "python",
   "name": "python3"
  },
  "language_info": {
   "codemirror_mode": {
    "name": "ipython",
    "version": 3
   },
   "file_extension": ".py",
   "mimetype": "text/x-python",
   "name": "python",
   "nbconvert_exporter": "python",
   "pygments_lexer": "ipython3",
   "version": "3.7.4"
  }
 },
 "nbformat": 4,
 "nbformat_minor": 2
}
