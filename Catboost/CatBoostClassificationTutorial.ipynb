{
 "cells": [
  {
   "cell_type": "markdown",
   "metadata": {},
   "source": [
    "# Python Catboost Tutorial - Binary Classification"
   ]
  },
  {
   "cell_type": "markdown",
   "metadata": {},
   "source": [
    "Adapted from the Catboost repository."
   ]
  },
  {
   "cell_type": "markdown",
   "metadata": {},
   "source": [
    "### CatBoost installation\n",
    "If you have not already installed CatBoost: <br>\n",
    "pip install --upgrade catboost\n"
   ]
  },
  {
   "cell_type": "markdown",
   "metadata": {},
   "source": [
    "### Data Loading"
   ]
  },
  {
   "cell_type": "code",
   "execution_count": 1,
   "metadata": {},
   "outputs": [],
   "source": [
    "from catboost import CatBoostClassifier, Pool, cv\n",
    "from catboost.eval.catboost_evaluation import *\n",
    "\n",
    "import numpy as np\n",
    "import pandas as pd\n",
    "from collections import Counter\n",
    "from itertools import product\n",
    "\n",
    "from sklearn.model_selection import train_test_split\n",
    "from sklearn.metrics import accuracy_score, cohen_kappa_score, confusion_matrix, classification_report\n",
    "\n",
    "from imblearn.over_sampling import SMOTE, SMOTENC"
   ]
  },
  {
   "cell_type": "code",
   "execution_count": 2,
   "metadata": {},
   "outputs": [
    {
     "name": "stdout",
     "output_type": "stream",
     "text": [
      "DF shape (891, 9)\n"
     ]
    },
    {
     "data": {
      "text/html": [
       "<div>\n",
       "<style scoped>\n",
       "    .dataframe tbody tr th:only-of-type {\n",
       "        vertical-align: middle;\n",
       "    }\n",
       "\n",
       "    .dataframe tbody tr th {\n",
       "        vertical-align: top;\n",
       "    }\n",
       "\n",
       "    .dataframe thead th {\n",
       "        text-align: right;\n",
       "    }\n",
       "</style>\n",
       "<table border=\"1\" class=\"dataframe\">\n",
       "  <thead>\n",
       "    <tr style=\"text-align: right;\">\n",
       "      <th></th>\n",
       "      <th>Survived</th>\n",
       "      <th>Pclass</th>\n",
       "      <th>Sex</th>\n",
       "      <th>Age</th>\n",
       "      <th>SibSp</th>\n",
       "      <th>Parch</th>\n",
       "      <th>Fare</th>\n",
       "      <th>Cabin</th>\n",
       "      <th>Embarked</th>\n",
       "    </tr>\n",
       "  </thead>\n",
       "  <tbody>\n",
       "    <tr>\n",
       "      <th>0</th>\n",
       "      <td>0</td>\n",
       "      <td>3</td>\n",
       "      <td>male</td>\n",
       "      <td>22.0</td>\n",
       "      <td>1</td>\n",
       "      <td>0</td>\n",
       "      <td>7.2500</td>\n",
       "      <td>NaN</td>\n",
       "      <td>S</td>\n",
       "    </tr>\n",
       "    <tr>\n",
       "      <th>1</th>\n",
       "      <td>1</td>\n",
       "      <td>1</td>\n",
       "      <td>female</td>\n",
       "      <td>38.0</td>\n",
       "      <td>1</td>\n",
       "      <td>0</td>\n",
       "      <td>71.2833</td>\n",
       "      <td>C85</td>\n",
       "      <td>C</td>\n",
       "    </tr>\n",
       "    <tr>\n",
       "      <th>2</th>\n",
       "      <td>1</td>\n",
       "      <td>3</td>\n",
       "      <td>female</td>\n",
       "      <td>26.0</td>\n",
       "      <td>0</td>\n",
       "      <td>0</td>\n",
       "      <td>7.9250</td>\n",
       "      <td>NaN</td>\n",
       "      <td>S</td>\n",
       "    </tr>\n",
       "    <tr>\n",
       "      <th>3</th>\n",
       "      <td>1</td>\n",
       "      <td>1</td>\n",
       "      <td>female</td>\n",
       "      <td>35.0</td>\n",
       "      <td>1</td>\n",
       "      <td>0</td>\n",
       "      <td>53.1000</td>\n",
       "      <td>C123</td>\n",
       "      <td>S</td>\n",
       "    </tr>\n",
       "    <tr>\n",
       "      <th>4</th>\n",
       "      <td>0</td>\n",
       "      <td>3</td>\n",
       "      <td>male</td>\n",
       "      <td>35.0</td>\n",
       "      <td>0</td>\n",
       "      <td>0</td>\n",
       "      <td>8.0500</td>\n",
       "      <td>NaN</td>\n",
       "      <td>S</td>\n",
       "    </tr>\n",
       "  </tbody>\n",
       "</table>\n",
       "</div>"
      ],
      "text/plain": [
       "   Survived  Pclass     Sex   Age  SibSp  Parch     Fare Cabin Embarked\n",
       "0         0       3    male  22.0      1      0   7.2500   NaN        S\n",
       "1         1       1  female  38.0      1      0  71.2833   C85        C\n",
       "2         1       3  female  26.0      0      0   7.9250   NaN        S\n",
       "3         1       1  female  35.0      1      0  53.1000  C123        S\n",
       "4         0       3    male  35.0      0      0   8.0500   NaN        S"
      ]
     },
     "execution_count": 2,
     "metadata": {},
     "output_type": "execute_result"
    }
   ],
   "source": [
    "#Import Data\n",
    "df = pd.read_csv(\"https://raw.githubusercontent.com/iandreafc/sna-bigdata-course/master/Datasets/titanic.csv\")\n",
    "\n",
    "#See the imported dataset\n",
    "print(\"DF shape\", df.shape)\n",
    "df.head()\n"
   ]
  },
  {
   "cell_type": "markdown",
   "metadata": {},
   "source": [
    "### Feature Preparation\n",
    "First of all let's check how many missing values do we have:"
   ]
  },
  {
   "cell_type": "code",
   "execution_count": 3,
   "metadata": {},
   "outputs": [
    {
     "data": {
      "text/plain": [
       "Survived      0\n",
       "Pclass        0\n",
       "Sex           0\n",
       "Age         177\n",
       "SibSp         0\n",
       "Parch         0\n",
       "Fare          0\n",
       "Cabin       687\n",
       "Embarked      2\n",
       "dtype: int64"
      ]
     },
     "execution_count": 3,
     "metadata": {},
     "output_type": "execute_result"
    }
   ],
   "source": [
    "df.isnull().sum()"
   ]
  },
  {
   "cell_type": "markdown",
   "metadata": {},
   "source": [
    "As we cat see, **`Age`**, **`Cabin`** and **`Embarked`** indeed have some missing values, so let's fill them with some number way out of their distributions - so the model would be able to easily distinguish between them and take it into account:"
   ]
  },
  {
   "cell_type": "code",
   "execution_count": 4,
   "metadata": {},
   "outputs": [
    {
     "data": {
      "text/plain": [
       "Survived    0\n",
       "Pclass      0\n",
       "Sex         0\n",
       "Age         0\n",
       "SibSp       0\n",
       "Parch       0\n",
       "Fare        0\n",
       "Cabin       0\n",
       "Embarked    0\n",
       "dtype: int64"
      ]
     },
     "execution_count": 4,
     "metadata": {},
     "output_type": "execute_result"
    }
   ],
   "source": [
    "df.fillna(-999, inplace=True)\n",
    "df.isnull().sum()"
   ]
  },
  {
   "cell_type": "markdown",
   "metadata": {},
   "source": [
    "Now let's separate features and label variable:"
   ]
  },
  {
   "cell_type": "code",
   "execution_count": 5,
   "metadata": {},
   "outputs": [],
   "source": [
    "X = df.drop('Survived', axis=1)\n",
    "y = df.Survived"
   ]
  },
  {
   "cell_type": "markdown",
   "metadata": {},
   "source": [
    "Pay attention that our features are of differnt types - some of them are numeric, some are categorical, and some are even just strings, which normally should be handled in some specific way (for example encoded with bag-of-words representation). "
   ]
  },
  {
   "cell_type": "code",
   "execution_count": 6,
   "metadata": {},
   "outputs": [
    {
     "name": "stdout",
     "output_type": "stream",
     "text": [
      "Pclass        int64\n",
      "Sex          object\n",
      "Age         float64\n",
      "SibSp         int64\n",
      "Parch         int64\n",
      "Fare        float64\n",
      "Cabin        object\n",
      "Embarked     object\n",
      "dtype: object\n"
     ]
    },
    {
     "data": {
      "text/plain": [
       "array([0, 1, 3, 4, 6, 7], dtype=int64)"
      ]
     },
     "execution_count": 6,
     "metadata": {},
     "output_type": "execute_result"
    }
   ],
   "source": [
    "print(X.dtypes)\n",
    "\n",
    "categorical_features_indices = np.where(X.dtypes != np.float)[0]\n",
    "categorical_features_indices"
   ]
  },
  {
   "cell_type": "markdown",
   "metadata": {},
   "source": [
    "#### Encode Strings\n",
    "Not strictly necessary in Catboost, but useful for example for SMOTE."
   ]
  },
  {
   "cell_type": "code",
   "execution_count": 7,
   "metadata": {},
   "outputs": [
    {
     "data": {
      "text/html": [
       "<div>\n",
       "<style scoped>\n",
       "    .dataframe tbody tr th:only-of-type {\n",
       "        vertical-align: middle;\n",
       "    }\n",
       "\n",
       "    .dataframe tbody tr th {\n",
       "        vertical-align: top;\n",
       "    }\n",
       "\n",
       "    .dataframe thead th {\n",
       "        text-align: right;\n",
       "    }\n",
       "</style>\n",
       "<table border=\"1\" class=\"dataframe\">\n",
       "  <thead>\n",
       "    <tr style=\"text-align: right;\">\n",
       "      <th></th>\n",
       "      <th>Pclass</th>\n",
       "      <th>Sex</th>\n",
       "      <th>Age</th>\n",
       "      <th>SibSp</th>\n",
       "      <th>Parch</th>\n",
       "      <th>Fare</th>\n",
       "      <th>Cabin</th>\n",
       "      <th>Embarked</th>\n",
       "    </tr>\n",
       "  </thead>\n",
       "  <tbody>\n",
       "    <tr>\n",
       "      <th>0</th>\n",
       "      <td>3</td>\n",
       "      <td>1</td>\n",
       "      <td>22.0</td>\n",
       "      <td>1</td>\n",
       "      <td>0</td>\n",
       "      <td>7.2500</td>\n",
       "      <td>0</td>\n",
       "      <td>3</td>\n",
       "    </tr>\n",
       "    <tr>\n",
       "      <th>1</th>\n",
       "      <td>1</td>\n",
       "      <td>0</td>\n",
       "      <td>38.0</td>\n",
       "      <td>1</td>\n",
       "      <td>0</td>\n",
       "      <td>71.2833</td>\n",
       "      <td>82</td>\n",
       "      <td>1</td>\n",
       "    </tr>\n",
       "    <tr>\n",
       "      <th>2</th>\n",
       "      <td>3</td>\n",
       "      <td>0</td>\n",
       "      <td>26.0</td>\n",
       "      <td>0</td>\n",
       "      <td>0</td>\n",
       "      <td>7.9250</td>\n",
       "      <td>0</td>\n",
       "      <td>3</td>\n",
       "    </tr>\n",
       "    <tr>\n",
       "      <th>3</th>\n",
       "      <td>1</td>\n",
       "      <td>0</td>\n",
       "      <td>35.0</td>\n",
       "      <td>1</td>\n",
       "      <td>0</td>\n",
       "      <td>53.1000</td>\n",
       "      <td>56</td>\n",
       "      <td>3</td>\n",
       "    </tr>\n",
       "    <tr>\n",
       "      <th>4</th>\n",
       "      <td>3</td>\n",
       "      <td>1</td>\n",
       "      <td>35.0</td>\n",
       "      <td>0</td>\n",
       "      <td>0</td>\n",
       "      <td>8.0500</td>\n",
       "      <td>0</td>\n",
       "      <td>3</td>\n",
       "    </tr>\n",
       "  </tbody>\n",
       "</table>\n",
       "</div>"
      ],
      "text/plain": [
       "   Pclass  Sex   Age  SibSp  Parch     Fare  Cabin  Embarked\n",
       "0       3    1  22.0      1      0   7.2500      0         3\n",
       "1       1    0  38.0      1      0  71.2833     82         1\n",
       "2       3    0  26.0      0      0   7.9250      0         3\n",
       "3       1    0  35.0      1      0  53.1000     56         3\n",
       "4       3    1  35.0      0      0   8.0500      0         3"
      ]
     },
     "execution_count": 7,
     "metadata": {},
     "output_type": "execute_result"
    }
   ],
   "source": [
    "for var in ['Sex', 'Cabin', 'Embarked']:\n",
    "    X[var] = X[var].astype('category').cat.codes\n",
    "X.head()"
   ]
  },
  {
   "cell_type": "markdown",
   "metadata": {},
   "source": [
    "### Data Splitting\n",
    "Let's split the train data into training and validation sets."
   ]
  },
  {
   "cell_type": "code",
   "execution_count": 8,
   "metadata": {},
   "outputs": [],
   "source": [
    "X_train, X_test, y_train, y_test = train_test_split(X, y, train_size=0.75, random_state=14)"
   ]
  },
  {
   "cell_type": "markdown",
   "metadata": {},
   "source": [
    "### SMOTE\n",
    "Check if target var has balanced classes and use SMOTE if needed (**only on Train Set**)."
   ]
  },
  {
   "cell_type": "code",
   "execution_count": 9,
   "metadata": {},
   "outputs": [
    {
     "data": {
      "text/plain": [
       "Counter({0: 410, 1: 258})"
      ]
     },
     "execution_count": 9,
     "metadata": {},
     "output_type": "execute_result"
    }
   ],
   "source": [
    "Counter(np.array(y_train).ravel())"
   ]
  },
  {
   "cell_type": "code",
   "execution_count": 10,
   "metadata": {},
   "outputs": [
    {
     "data": {
      "text/plain": [
       "Counter({0: 410, 1: 410})"
      ]
     },
     "execution_count": 10,
     "metadata": {},
     "output_type": "execute_result"
    }
   ],
   "source": [
    "#Apply SMOTENC, since you have categorical variables\n",
    "sm = SMOTENC(categorical_features=categorical_features_indices, random_state = 14, n_jobs=-1)\n",
    "\n",
    "#Save column names\n",
    "xcol = list(X_train.columns)\n",
    "ycol = y_train.name\n",
    "\n",
    "#Apply SMOTE and convert back to Pandas\n",
    "X_train, y_train = sm.fit_resample(X_train, np.array(y_train).ravel())\n",
    "X_train = pd.DataFrame(X_train, columns= xcol)\n",
    "y_train = pd.DataFrame(y_train, columns= [ycol])\n",
    "\n",
    "#Check new class balance\n",
    "Counter(np.array(y_train).ravel())"
   ]
  },
  {
   "cell_type": "markdown",
   "metadata": {},
   "source": [
    "### Parameters Tuning"
   ]
  },
  {
   "cell_type": "code",
   "execution_count": 11,
   "metadata": {},
   "outputs": [
    {
     "name": "stdout",
     "output_type": "stream",
     "text": [
      "# Combinations: 60\n"
     ]
    }
   ],
   "source": [
    "#Define a grid of parameters to test\n",
    "grid = {'learning_rate': [0.01, 0.03, 0.1, 0.2],\n",
    "        'depth': [4, 6, 10],\n",
    "        'l2_leaf_reg': [1, 3, 5, 7, 9],\n",
    "        }\n",
    "\n",
    "#Count all possible combinations\n",
    "print(\"# Combinations:\", len([dict(zip(grid.keys(),v)) for v in product(*grid.values())]))"
   ]
  },
  {
   "cell_type": "code",
   "execution_count": 12,
   "metadata": {},
   "outputs": [
    {
     "name": "stdout",
     "output_type": "stream",
     "text": [
      "0:\tloss: 0.3488224\tbest: 0.3488224 (0)\ttotal: 14.2s\tremaining: 14m\n",
      "1:\tloss: 0.3278566\tbest: 0.3278566 (1)\ttotal: 32.2s\tremaining: 15m 33s\n",
      "2:\tloss: 0.3252437\tbest: 0.3252437 (2)\ttotal: 51.6s\tremaining: 16m 20s\n",
      "3:\tloss: 0.3237958\tbest: 0.3237958 (3)\ttotal: 1m 9s\tremaining: 16m 11s\n",
      "4:\tloss: 0.3493395\tbest: 0.3237958 (3)\ttotal: 1m 22s\tremaining: 15m 10s\n",
      "5:\tloss: 0.3334053\tbest: 0.3237958 (3)\ttotal: 1m 37s\tremaining: 14m 37s\n",
      "6:\tloss: 0.3294918\tbest: 0.3237958 (3)\ttotal: 1m 48s\tremaining: 13m 44s\n",
      "7:\tloss: 0.3326646\tbest: 0.3237958 (3)\ttotal: 1m 58s\tremaining: 12m 48s\n",
      "8:\tloss: 0.3545886\tbest: 0.3237958 (3)\ttotal: 2m 4s\tremaining: 11m 47s\n",
      "9:\tloss: 0.3324901\tbest: 0.3237958 (3)\ttotal: 2m 13s\tremaining: 11m 6s\n",
      "10:\tloss: 0.3297630\tbest: 0.3237958 (3)\ttotal: 2m 22s\tremaining: 10m 34s\n",
      "11:\tloss: 0.3234005\tbest: 0.3234005 (11)\ttotal: 2m 32s\tremaining: 10m 8s\n",
      "12:\tloss: 0.3533436\tbest: 0.3234005 (11)\ttotal: 2m 39s\tremaining: 9m 35s\n",
      "13:\tloss: 0.3365020\tbest: 0.3234005 (11)\ttotal: 2m 47s\tremaining: 9m 9s\n",
      "14:\tloss: 0.3319392\tbest: 0.3234005 (11)\ttotal: 2m 56s\tremaining: 8m 48s\n",
      "15:\tloss: 0.3337280\tbest: 0.3234005 (11)\ttotal: 3m 4s\tremaining: 8m 28s\n",
      "16:\tloss: 0.3571994\tbest: 0.3234005 (11)\ttotal: 3m 11s\tremaining: 8m 3s\n",
      "17:\tloss: 0.3320895\tbest: 0.3234005 (11)\ttotal: 3m 19s\tremaining: 7m 45s\n",
      "18:\tloss: 0.3272831\tbest: 0.3234005 (11)\ttotal: 3m 28s\tremaining: 7m 28s\n",
      "19:\tloss: 0.3375417\tbest: 0.3234005 (11)\ttotal: 3m 37s\tremaining: 7m 14s\n",
      "20:\tloss: 0.3234072\tbest: 0.3234005 (11)\ttotal: 3m 56s\tremaining: 7m 19s\n",
      "21:\tloss: 0.3123112\tbest: 0.3123112 (21)\ttotal: 4m 20s\tremaining: 7m 29s\n",
      "22:\tloss: 0.3129968\tbest: 0.3123112 (21)\ttotal: 4m 42s\tremaining: 7m 34s\n",
      "23:\tloss: 0.3330462\tbest: 0.3123112 (21)\ttotal: 5m 4s\tremaining: 7m 36s\n",
      "24:\tloss: 0.3375470\tbest: 0.3123112 (21)\ttotal: 5m 21s\tremaining: 7m 29s\n",
      "25:\tloss: 0.3216781\tbest: 0.3123112 (21)\ttotal: 5m 42s\tremaining: 7m 28s\n",
      "26:\tloss: 0.3144467\tbest: 0.3123112 (21)\ttotal: 6m 5s\tremaining: 7m 26s\n",
      "27:\tloss: 0.3321980\tbest: 0.3123112 (21)\ttotal: 6m 26s\tremaining: 7m 21s\n",
      "28:\tloss: 0.3364128\tbest: 0.3123112 (21)\ttotal: 6m 43s\tremaining: 7m 11s\n",
      "29:\tloss: 0.3224940\tbest: 0.3123112 (21)\ttotal: 7m 3s\tremaining: 7m 3s\n",
      "30:\tloss: 0.3144071\tbest: 0.3123112 (21)\ttotal: 7m 24s\tremaining: 6m 56s\n",
      "31:\tloss: 0.3294707\tbest: 0.3123112 (21)\ttotal: 7m 46s\tremaining: 6m 48s\n",
      "32:\tloss: 0.3373832\tbest: 0.3123112 (21)\ttotal: 8m 5s\tremaining: 6m 36s\n",
      "33:\tloss: 0.3207016\tbest: 0.3123112 (21)\ttotal: 8m 25s\tremaining: 6m 26s\n",
      "34:\tloss: 0.3210232\tbest: 0.3123112 (21)\ttotal: 8m 47s\tremaining: 6m 16s\n",
      "35:\tloss: 0.3317981\tbest: 0.3123112 (21)\ttotal: 9m 8s\tremaining: 6m 5s\n",
      "36:\tloss: 0.3403016\tbest: 0.3123112 (21)\ttotal: 9m 25s\tremaining: 5m 51s\n",
      "37:\tloss: 0.3225566\tbest: 0.3123112 (21)\ttotal: 9m 47s\tremaining: 5m 39s\n",
      "38:\tloss: 0.3194978\tbest: 0.3123112 (21)\ttotal: 10m 8s\tremaining: 5m 27s\n",
      "39:\tloss: 0.3198802\tbest: 0.3123112 (21)\ttotal: 10m 28s\tremaining: 5m 14s\n",
      "40:\tloss: 0.3230650\tbest: 0.3123112 (21)\ttotal: 10m 55s\tremaining: 5m 3s\n",
      "41:\tloss: 0.3256670\tbest: 0.3123112 (21)\ttotal: 11m 30s\tremaining: 4m 55s\n",
      "42:\tloss: 0.3128076\tbest: 0.3123112 (21)\ttotal: 12m 6s\tremaining: 4m 47s\n",
      "43:\tloss: 0.3242648\tbest: 0.3123112 (21)\ttotal: 12m 41s\tremaining: 4m 37s\n",
      "44:\tloss: 0.3253615\tbest: 0.3123112 (21)\ttotal: 13m 11s\tremaining: 4m 23s\n",
      "45:\tloss: 0.3292234\tbest: 0.3123112 (21)\ttotal: 13m 48s\tremaining: 4m 12s\n",
      "46:\tloss: 0.3372110\tbest: 0.3123112 (21)\ttotal: 14m 21s\tremaining: 3m 58s\n",
      "47:\tloss: 0.3184724\tbest: 0.3123112 (21)\ttotal: 14m 53s\tremaining: 3m 43s\n",
      "48:\tloss: 0.3277214\tbest: 0.3123112 (21)\ttotal: 15m 18s\tremaining: 3m 26s\n",
      "49:\tloss: 0.3236543\tbest: 0.3123112 (21)\ttotal: 15m 50s\tremaining: 3m 10s\n",
      "50:\tloss: 0.3267298\tbest: 0.3123112 (21)\ttotal: 16m 24s\tremaining: 2m 53s\n",
      "51:\tloss: 0.3290306\tbest: 0.3123112 (21)\ttotal: 16m 59s\tremaining: 2m 36s\n",
      "52:\tloss: 0.3300384\tbest: 0.3123112 (21)\ttotal: 17m 25s\tremaining: 2m 18s\n",
      "53:\tloss: 0.3248584\tbest: 0.3123112 (21)\ttotal: 17m 58s\tremaining: 1m 59s\n",
      "54:\tloss: 0.3232240\tbest: 0.3123112 (21)\ttotal: 18m 34s\tremaining: 1m 41s\n",
      "55:\tloss: 0.3247761\tbest: 0.3123112 (21)\ttotal: 19m 6s\tremaining: 1m 21s\n",
      "56:\tloss: 0.3359788\tbest: 0.3123112 (21)\ttotal: 19m 30s\tremaining: 1m 1s\n",
      "57:\tloss: 0.3317124\tbest: 0.3123112 (21)\ttotal: 20m 2s\tremaining: 41.5s\n",
      "58:\tloss: 0.3275247\tbest: 0.3123112 (21)\ttotal: 20m 35s\tremaining: 20.9s\n",
      "59:\tloss: 0.3213609\tbest: 0.3123112 (21)\ttotal: 21m 7s\tremaining: 0us\n",
      "Estimating final quality...\n"
     ]
    },
    {
     "data": {
      "text/plain": [
       "{'depth': 6, 'l2_leaf_reg': 1, 'learning_rate': 0.03}"
      ]
     },
     "execution_count": 12,
     "metadata": {},
     "output_type": "execute_result"
    }
   ],
   "source": [
    "#Define Model (could also use custom loss here)\n",
    "#custom_loss = [\"Accuracy\"]\n",
    "model = CatBoostClassifier()\n",
    "\n",
    "#Use the Pool function to specify the categorical features\n",
    "train_pool = Pool(data= X_train, label= y_train, cat_features= categorical_features_indices)\n",
    "\n",
    "#Grid Search\n",
    "#Default cross-validation is 3-fold\n",
    "grid_search_result = model.grid_search(grid, train_pool, cv=3)\n",
    "bestparam = grid_search_result[\"params\"]\n",
    "bestparam"
   ]
  },
  {
   "cell_type": "code",
   "execution_count": 13,
   "metadata": {},
   "outputs": [
    {
     "name": "stdout",
     "output_type": "stream",
     "text": [
      "{'depth': 6, 'l2_leaf_reg': 1, 'learning_rate': 0.03, 'custom_loss': 'Kappa', 'eval_metric': 'Kappa'}\n"
     ]
    }
   ],
   "source": [
    "#Set best params\n",
    "model = CatBoostClassifier()\n",
    "\n",
    "#Can define Custom Loss\n",
    "bestparam[\"custom_loss\"] = \"Kappa\"\n",
    "\n",
    "#Depending on your objective you can also customize the evaluation metric\n",
    "bestparam[\"eval_metric\"] = \"Kappa\"\n",
    "\n",
    "model.set_params(**bestparam)\n",
    "print(model.get_params())"
   ]
  },
  {
   "cell_type": "markdown",
   "metadata": {},
   "source": [
    "### Model Training\n",
    "Retaining the best model and with early stopping, to avoid overfit.\n",
    "**In real cases, we need an external test set, not used for training or validation (early stopping). That dataset is the one to be used to evaluate the final moldel.**"
   ]
  },
  {
   "cell_type": "code",
   "execution_count": 14,
   "metadata": {},
   "outputs": [
    {
     "name": "stdout",
     "output_type": "stream",
     "text": [
      "(820, 8) (615, 8) (205, 8)\n"
     ]
    }
   ],
   "source": [
    "#Furter split the train set into final_train and validation sets\n",
    "X_train_final, X_validation, y_train_final, y_validation = train_test_split(X_train, y_train,\\\n",
    "                                                                            train_size=0.75, random_state=14)\n",
    "\n",
    "print(X_train.shape, X_train_final.shape, X_validation.shape)"
   ]
  },
  {
   "cell_type": "markdown",
   "metadata": {},
   "source": [
    "Use early sotopping rounds and validation set, to stop after K iterations with no improvement of the evaluation metric."
   ]
  },
  {
   "cell_type": "code",
   "execution_count": 15,
   "metadata": {},
   "outputs": [
    {
     "name": "stdout",
     "output_type": "stream",
     "text": [
      "0:\tlearn: 0.5751363\ttest: 0.4924293\tbest: 0.4924293 (0)\ttotal: 23.4ms\tremaining: 23.4s\n",
      "1:\tlearn: 0.5627479\ttest: 0.5219124\tbest: 0.5219124 (1)\ttotal: 38.1ms\tremaining: 19s\n",
      "2:\tlearn: 0.5881125\ttest: 0.5427657\tbest: 0.5427657 (2)\ttotal: 68.5ms\tremaining: 22.8s\n",
      "3:\tlearn: 0.5914914\ttest: 0.5427657\tbest: 0.5427657 (2)\ttotal: 104ms\tremaining: 25.8s\n",
      "4:\tlearn: 0.5979756\ttest: 0.5342486\tbest: 0.5427657 (2)\ttotal: 119ms\tremaining: 23.7s\n",
      "5:\tlearn: 0.5663225\ttest: 0.5228860\tbest: 0.5427657 (2)\ttotal: 121ms\tremaining: 20.1s\n",
      "6:\tlearn: 0.5565643\ttest: 0.5124496\tbest: 0.5427657 (2)\ttotal: 123ms\tremaining: 17.4s\n",
      "7:\tlearn: 0.5630378\ttest: 0.5040163\tbest: 0.5427657 (2)\ttotal: 129ms\tremaining: 16s\n",
      "8:\tlearn: 0.5599470\ttest: 0.5219124\tbest: 0.5427657 (2)\ttotal: 148ms\tremaining: 16.3s\n",
      "9:\tlearn: 0.5598497\ttest: 0.5219124\tbest: 0.5427657 (2)\ttotal: 156ms\tremaining: 15.5s\n",
      "10:\tlearn: 0.5850071\ttest: 0.5228860\tbest: 0.5427657 (2)\ttotal: 175ms\tremaining: 15.7s\n",
      "11:\tlearn: 0.5882037\ttest: 0.5228860\tbest: 0.5427657 (2)\ttotal: 190ms\tremaining: 15.6s\n",
      "12:\tlearn: 0.5946886\ttest: 0.5238556\tbest: 0.5427657 (2)\ttotal: 209ms\tremaining: 15.8s\n",
      "13:\tlearn: 0.5880212\ttest: 0.5333010\tbest: 0.5427657 (2)\ttotal: 218ms\tremaining: 15.3s\n",
      "14:\tlearn: 0.6075717\ttest: 0.5333010\tbest: 0.5427657 (2)\ttotal: 232ms\tremaining: 15.2s\n",
      "15:\tlearn: 0.6140581\ttest: 0.5248213\tbest: 0.5427657 (2)\ttotal: 249ms\tremaining: 15.3s\n",
      "16:\tlearn: 0.6107718\ttest: 0.5248213\tbest: 0.5427657 (2)\ttotal: 250ms\tremaining: 14.5s\n",
      "17:\tlearn: 0.6107718\ttest: 0.5342486\tbest: 0.5427657 (2)\ttotal: 278ms\tremaining: 15.2s\n",
      "18:\tlearn: 0.6139726\ttest: 0.5248213\tbest: 0.5427657 (2)\ttotal: 287ms\tremaining: 14.8s\n",
      "19:\tlearn: 0.6107718\ttest: 0.5333010\tbest: 0.5427657 (2)\ttotal: 289ms\tremaining: 14.2s\n",
      "20:\tlearn: 0.6075717\ttest: 0.5333010\tbest: 0.5427657 (2)\ttotal: 301ms\tremaining: 14s\n",
      "21:\tlearn: 0.6203764\ttest: 0.5333010\tbest: 0.5427657 (2)\ttotal: 310ms\tremaining: 13.8s\n",
      "22:\tlearn: 0.6202922\ttest: 0.5333010\tbest: 0.5427657 (2)\ttotal: 323ms\tremaining: 13.7s\n",
      "23:\tlearn: 0.6202922\ttest: 0.5436950\tbest: 0.5436950 (23)\ttotal: 341ms\tremaining: 13.8s\n",
      "24:\tlearn: 0.6202922\ttest: 0.5436950\tbest: 0.5436950 (23)\ttotal: 363ms\tremaining: 14.2s\n",
      "25:\tlearn: 0.6234124\ttest: 0.5531606\tbest: 0.5531606 (25)\ttotal: 385ms\tremaining: 14.4s\n",
      "26:\tlearn: 0.6267830\ttest: 0.5531606\tbest: 0.5531606 (25)\ttotal: 391ms\tremaining: 14.1s\n",
      "27:\tlearn: 0.6234959\ttest: 0.5531606\tbest: 0.5531606 (25)\ttotal: 425ms\tremaining: 14.7s\n",
      "28:\tlearn: 0.6267002\ttest: 0.5531606\tbest: 0.5531606 (25)\ttotal: 462ms\tremaining: 15.5s\n",
      "29:\tlearn: 0.6300693\ttest: 0.5531606\tbest: 0.5531606 (25)\ttotal: 482ms\tremaining: 15.6s\n",
      "30:\tlearn: 0.6331924\ttest: 0.5816733\tbest: 0.5816733 (30)\ttotal: 494ms\tremaining: 15.4s\n",
      "31:\tlearn: 0.6461767\ttest: 0.5721497\tbest: 0.5816733 (30)\ttotal: 524ms\tremaining: 15.9s\n",
      "32:\tlearn: 0.6558005\ttest: 0.5721497\tbest: 0.5816733 (30)\ttotal: 531ms\tremaining: 15.6s\n",
      "33:\tlearn: 0.6654307\ttest: 0.5721497\tbest: 0.5816733 (30)\ttotal: 544ms\tremaining: 15.5s\n",
      "34:\tlearn: 0.6750674\ttest: 0.5816733\tbest: 0.5816733 (30)\ttotal: 553ms\tremaining: 15.3s\n",
      "35:\tlearn: 0.6653565\ttest: 0.5531606\tbest: 0.5816733 (30)\ttotal: 578ms\tremaining: 15.5s\n",
      "36:\tlearn: 0.6718544\ttest: 0.5626455\tbest: 0.5816733 (30)\ttotal: 601ms\tremaining: 15.6s\n",
      "37:\tlearn: 0.6750674\ttest: 0.5531606\tbest: 0.5816733 (30)\ttotal: 612ms\tremaining: 15.5s\n",
      "38:\tlearn: 0.6814953\ttest: 0.5721497\tbest: 0.5816733 (30)\ttotal: 631ms\tremaining: 15.6s\n",
      "39:\tlearn: 0.6718544\ttest: 0.5531606\tbest: 0.5816733 (30)\ttotal: 647ms\tremaining: 15.5s\n",
      "40:\tlearn: 0.6849202\ttest: 0.5626455\tbest: 0.5816733 (30)\ttotal: 679ms\tremaining: 15.9s\n",
      "41:\tlearn: 0.6914167\ttest: 0.5721497\tbest: 0.5816733 (30)\ttotal: 695ms\tremaining: 15.8s\n",
      "42:\tlearn: 0.6880647\ttest: 0.5928796\tbest: 0.5928796 (42)\ttotal: 705ms\tremaining: 15.7s\n",
      "43:\tlearn: 0.6913482\ttest: 0.5928796\tbest: 0.5928796 (42)\ttotal: 714ms\tremaining: 15.5s\n",
      "44:\tlearn: 0.6912797\ttest: 0.5833737\tbest: 0.5928796 (42)\ttotal: 722ms\tremaining: 15.3s\n",
      "45:\tlearn: 0.6912797\ttest: 0.5833737\tbest: 0.5928796 (42)\ttotal: 728ms\tremaining: 15.1s\n",
      "46:\tlearn: 0.6945633\ttest: 0.5738870\tbest: 0.5928796 (42)\ttotal: 731ms\tremaining: 14.8s\n",
      "47:\tlearn: 0.6945633\ttest: 0.5738870\tbest: 0.5928796 (42)\ttotal: 733ms\tremaining: 14.5s\n",
      "48:\tlearn: 0.6945633\ttest: 0.5738870\tbest: 0.5928796 (42)\ttotal: 735ms\tremaining: 14.3s\n",
      "49:\tlearn: 0.6977791\ttest: 0.5738870\tbest: 0.5928796 (42)\ttotal: 755ms\tremaining: 14.4s\n",
      "50:\tlearn: 0.7009956\ttest: 0.5738870\tbest: 0.5928796 (42)\ttotal: 764ms\tremaining: 14.2s\n",
      "51:\tlearn: 0.7075606\ttest: 0.5738870\tbest: 0.5928796 (42)\ttotal: 777ms\tremaining: 14.2s\n",
      "52:\tlearn: 0.7108420\ttest: 0.5738870\tbest: 0.5928796 (42)\ttotal: 793ms\tremaining: 14.2s\n",
      "53:\tlearn: 0.7076255\ttest: 0.5738870\tbest: 0.5928796 (42)\ttotal: 820ms\tremaining: 14.4s\n",
      "54:\tlearn: 0.7076255\ttest: 0.5738870\tbest: 0.5928796 (42)\ttotal: 846ms\tremaining: 14.5s\n",
      "55:\tlearn: 0.7140593\ttest: 0.5738870\tbest: 0.5928796 (42)\ttotal: 856ms\tremaining: 14.4s\n",
      "56:\tlearn: 0.7140593\ttest: 0.5738870\tbest: 0.5928796 (42)\ttotal: 873ms\tremaining: 14.4s\n",
      "57:\tlearn: 0.7140593\ttest: 0.5738870\tbest: 0.5928796 (42)\ttotal: 897ms\tremaining: 14.6s\n",
      "58:\tlearn: 0.7140593\ttest: 0.5738870\tbest: 0.5928796 (42)\ttotal: 913ms\tremaining: 14.6s\n",
      "59:\tlearn: 0.7140593\ttest: 0.5833737\tbest: 0.5928796 (42)\ttotal: 916ms\tremaining: 14.4s\n",
      "60:\tlearn: 0.7141227\ttest: 0.5738870\tbest: 0.5928796 (42)\ttotal: 929ms\tremaining: 14.3s\n",
      "61:\tlearn: 0.7109062\ttest: 0.5833737\tbest: 0.5928796 (42)\ttotal: 943ms\tremaining: 14.3s\n",
      "62:\tlearn: 0.7141227\ttest: 0.5833737\tbest: 0.5928796 (42)\ttotal: 962ms\tremaining: 14.3s\n",
      "63:\tlearn: 0.7109062\ttest: 0.5833737\tbest: 0.5928796 (42)\ttotal: 996ms\tremaining: 14.6s\n",
      "64:\tlearn: 0.7141227\ttest: 0.5833737\tbest: 0.5928796 (42)\ttotal: 1.02s\tremaining: 14.7s\n",
      "65:\tlearn: 0.7173400\ttest: 0.5833737\tbest: 0.5928796 (42)\ttotal: 1.02s\tremaining: 14.5s\n",
      "66:\tlearn: 0.7141227\ttest: 0.5833737\tbest: 0.5928796 (42)\ttotal: 1.03s\tremaining: 14.4s\n",
      "67:\tlearn: 0.7141861\ttest: 0.5833737\tbest: 0.5928796 (42)\ttotal: 1.06s\tremaining: 14.5s\n",
      "68:\tlearn: 0.7174653\ttest: 0.5833737\tbest: 0.5928796 (42)\ttotal: 1.07s\tremaining: 14.5s\n",
      "69:\tlearn: 0.7174653\ttest: 0.5833737\tbest: 0.5928796 (42)\ttotal: 1.09s\tremaining: 14.5s\n",
      "70:\tlearn: 0.7174653\ttest: 0.5833737\tbest: 0.5928796 (42)\ttotal: 1.1s\tremaining: 14.4s\n",
      "71:\tlearn: 0.7174653\ttest: 0.5833737\tbest: 0.5928796 (42)\ttotal: 1.12s\tremaining: 14.4s\n",
      "72:\tlearn: 0.7206819\ttest: 0.5833737\tbest: 0.5928796 (42)\ttotal: 1.13s\tremaining: 14.3s\n",
      "73:\tlearn: 0.7206819\ttest: 0.5833737\tbest: 0.5928796 (42)\ttotal: 1.15s\tremaining: 14.4s\n",
      "74:\tlearn: 0.7206819\ttest: 0.5833737\tbest: 0.5928796 (42)\ttotal: 1.18s\tremaining: 14.6s\n",
      "75:\tlearn: 0.7206819\ttest: 0.5738870\tbest: 0.5928796 (42)\ttotal: 1.21s\tremaining: 14.7s\n",
      "76:\tlearn: 0.7206819\ttest: 0.5738870\tbest: 0.5928796 (42)\ttotal: 1.24s\tremaining: 14.8s\n",
      "77:\tlearn: 0.7238992\ttest: 0.5738870\tbest: 0.5928796 (42)\ttotal: 1.25s\tremaining: 14.8s\n",
      "78:\tlearn: 0.7206819\ttest: 0.5738870\tbest: 0.5928796 (42)\ttotal: 1.27s\tremaining: 14.8s\n",
      "79:\tlearn: 0.7206819\ttest: 0.5833737\tbest: 0.5928796 (42)\ttotal: 1.28s\tremaining: 14.8s\n",
      "80:\tlearn: 0.7206819\ttest: 0.5833737\tbest: 0.5928796 (42)\ttotal: 1.3s\tremaining: 14.7s\n",
      "81:\tlearn: 0.7271171\ttest: 0.5833737\tbest: 0.5928796 (42)\ttotal: 1.31s\tremaining: 14.6s\n",
      "82:\tlearn: 0.7271171\ttest: 0.5738870\tbest: 0.5928796 (42)\ttotal: 1.34s\tremaining: 14.8s\n",
      "83:\tlearn: 0.7271171\ttest: 0.5738870\tbest: 0.5928796 (42)\ttotal: 1.37s\tremaining: 15s\n",
      "84:\tlearn: 0.7303358\ttest: 0.5738870\tbest: 0.5928796 (42)\ttotal: 1.39s\tremaining: 14.9s\n",
      "85:\tlearn: 0.7335552\ttest: 0.5738870\tbest: 0.5928796 (42)\ttotal: 1.41s\tremaining: 15s\n",
      "86:\tlearn: 0.7367754\ttest: 0.5738870\tbest: 0.5928796 (42)\ttotal: 1.42s\tremaining: 14.9s\n",
      "87:\tlearn: 0.7367754\ttest: 0.5738870\tbest: 0.5928796 (42)\ttotal: 1.43s\tremaining: 14.8s\n",
      "88:\tlearn: 0.7367754\ttest: 0.5738870\tbest: 0.5928796 (42)\ttotal: 1.43s\tremaining: 14.7s\n",
      "89:\tlearn: 0.7367754\ttest: 0.5738870\tbest: 0.5928796 (42)\ttotal: 1.44s\tremaining: 14.5s\n",
      "90:\tlearn: 0.7335552\ttest: 0.5833737\tbest: 0.5928796 (42)\ttotal: 1.46s\tremaining: 14.6s\n",
      "91:\tlearn: 0.7335552\ttest: 0.5833737\tbest: 0.5928796 (42)\ttotal: 1.47s\tremaining: 14.6s\n",
      "92:\tlearn: 0.7335552\ttest: 0.5833737\tbest: 0.5928796 (42)\ttotal: 1.52s\tremaining: 14.8s\n",
      "93:\tlearn: 0.7335552\ttest: 0.5738870\tbest: 0.5928796 (42)\ttotal: 1.54s\tremaining: 14.9s\n",
      "94:\tlearn: 0.7335552\ttest: 0.5738870\tbest: 0.5928796 (42)\ttotal: 1.59s\tremaining: 15.1s\n"
     ]
    },
    {
     "name": "stdout",
     "output_type": "stream",
     "text": [
      "95:\tlearn: 0.7335552\ttest: 0.5738870\tbest: 0.5928796 (42)\ttotal: 1.62s\tremaining: 15.3s\n",
      "96:\tlearn: 0.7335552\ttest: 0.5738870\tbest: 0.5928796 (42)\ttotal: 1.64s\tremaining: 15.3s\n",
      "97:\tlearn: 0.7400539\ttest: 0.5738870\tbest: 0.5928796 (42)\ttotal: 1.67s\tremaining: 15.4s\n",
      "98:\tlearn: 0.7400539\ttest: 0.5842187\tbest: 0.5928796 (42)\ttotal: 1.68s\tremaining: 15.3s\n",
      "99:\tlearn: 0.7400539\ttest: 0.5842187\tbest: 0.5928796 (42)\ttotal: 1.71s\tremaining: 15.4s\n",
      "100:\tlearn: 0.7400539\ttest: 0.5842187\tbest: 0.5928796 (42)\ttotal: 1.72s\tremaining: 15.3s\n",
      "101:\tlearn: 0.7400539\ttest: 0.5842187\tbest: 0.5928796 (42)\ttotal: 1.73s\tremaining: 15.2s\n",
      "102:\tlearn: 0.7400539\ttest: 0.5842187\tbest: 0.5928796 (42)\ttotal: 1.76s\tremaining: 15.3s\n",
      "103:\tlearn: 0.7433317\ttest: 0.5738870\tbest: 0.5928796 (42)\ttotal: 1.76s\tremaining: 15.2s\n",
      "104:\tlearn: 0.7400539\ttest: 0.5738870\tbest: 0.5928796 (42)\ttotal: 1.77s\tremaining: 15.1s\n",
      "105:\tlearn: 0.7400539\ttest: 0.5738870\tbest: 0.5928796 (42)\ttotal: 1.78s\tremaining: 15s\n",
      "106:\tlearn: 0.7433317\ttest: 0.5842187\tbest: 0.5928796 (42)\ttotal: 1.8s\tremaining: 15s\n",
      "107:\tlearn: 0.7401116\ttest: 0.5842187\tbest: 0.5928796 (42)\ttotal: 1.84s\tremaining: 15.2s\n",
      "108:\tlearn: 0.7401116\ttest: 0.5842187\tbest: 0.5928796 (42)\ttotal: 1.87s\tremaining: 15.3s\n",
      "109:\tlearn: 0.7401116\ttest: 0.5842187\tbest: 0.5928796 (42)\ttotal: 1.88s\tremaining: 15.2s\n",
      "110:\tlearn: 0.7401116\ttest: 0.5842187\tbest: 0.5928796 (42)\ttotal: 1.9s\tremaining: 15.2s\n",
      "111:\tlearn: 0.7401116\ttest: 0.5842187\tbest: 0.5928796 (42)\ttotal: 1.9s\tremaining: 15.1s\n",
      "112:\tlearn: 0.7433886\ttest: 0.5842187\tbest: 0.5928796 (42)\ttotal: 1.91s\tremaining: 15s\n",
      "113:\tlearn: 0.7466088\ttest: 0.5850602\tbest: 0.5928796 (42)\ttotal: 1.94s\tremaining: 15.1s\n",
      "114:\tlearn: 0.7465525\ttest: 0.5850602\tbest: 0.5928796 (42)\ttotal: 1.95s\tremaining: 15s\n",
      "115:\tlearn: 0.7433886\ttest: 0.5850602\tbest: 0.5928796 (42)\ttotal: 1.98s\tremaining: 15.1s\n",
      "116:\tlearn: 0.7498296\ttest: 0.5850602\tbest: 0.5928796 (42)\ttotal: 2.02s\tremaining: 15.3s\n",
      "117:\tlearn: 0.7466088\ttest: 0.5850602\tbest: 0.5928796 (42)\ttotal: 2.04s\tremaining: 15.3s\n",
      "118:\tlearn: 0.7562735\ttest: 0.5850602\tbest: 0.5928796 (42)\ttotal: 2.07s\tremaining: 15.3s\n",
      "119:\tlearn: 0.7562735\ttest: 0.5842187\tbest: 0.5928796 (42)\ttotal: 2.09s\tremaining: 15.4s\n",
      "120:\tlearn: 0.7595498\ttest: 0.5842187\tbest: 0.5928796 (42)\ttotal: 2.11s\tremaining: 15.3s\n",
      "121:\tlearn: 0.7595498\ttest: 0.5747503\tbest: 0.5928796 (42)\ttotal: 2.12s\tremaining: 15.3s\n",
      "122:\tlearn: 0.7595498\ttest: 0.5747503\tbest: 0.5928796 (42)\ttotal: 2.12s\tremaining: 15.1s\n",
      "Stopped by overfitting detector  (80 iterations wait)\n",
      "\n",
      "bestTest = 0.5928796319\n",
      "bestIteration = 42\n",
      "\n",
      "Shrink model to first 43 iterations.\n"
     ]
    },
    {
     "data": {
      "text/plain": [
       "<catboost.core.CatBoostClassifier at 0x24becd06808>"
      ]
     },
     "execution_count": 15,
     "metadata": {},
     "output_type": "execute_result"
    }
   ],
   "source": [
    "model.fit(X_train_final, y_train_final, cat_features=categorical_features_indices, eval_set=(X_validation, y_validation), \\\n",
    "                   early_stopping_rounds = 80, use_best_model=True, logging_level = \"Verbose\", plot=False)\n"
   ]
  },
  {
   "cell_type": "markdown",
   "metadata": {},
   "source": [
    "With this we can see that the best **Kappa** value of **0.5929** (on **validation set**) was acheived at step **42** with no futher improvement after **80** iterations (so the training stopped). We now retain this model as the **best model**."
   ]
  },
  {
   "cell_type": "markdown",
   "metadata": {},
   "source": [
    "### Model Predictions and Fit"
   ]
  },
  {
   "cell_type": "code",
   "execution_count": 16,
   "metadata": {},
   "outputs": [
    {
     "name": "stdout",
     "output_type": "stream",
     "text": [
      "[[117  22]\n",
      " [ 19  65]]\n",
      "              precision    recall  f1-score   support\n",
      "\n",
      "           0       0.86      0.84      0.85       139\n",
      "           1       0.75      0.77      0.76        84\n",
      "\n",
      "    accuracy                           0.82       223\n",
      "   macro avg       0.80      0.81      0.81       223\n",
      "weighted avg       0.82      0.82      0.82       223\n",
      "\n",
      "ACCURACY: 0.8161\n",
      "COHEN'S KAPPA: 0.6112\n"
     ]
    }
   ],
   "source": [
    "#Predict on the original Test Set\n",
    "predictions = model.predict(X_test)\n",
    "truevalues = np.array(y_test)\n",
    "\n",
    "#Confusion Matrix\n",
    "print(confusion_matrix(truevalues,predictions))\n",
    "\n",
    "#Classificatiion Report\n",
    "print(classification_report(truevalues,predictions))\n",
    "\n",
    "#Cohen's Kappa\n",
    "print(\"ACCURACY:\", '%.4f' % accuracy_score(truevalues, predictions))\n",
    "print(\"COHEN'S KAPPA:\", '%.4f' % cohen_kappa_score(truevalues, predictions))"
   ]
  },
  {
   "cell_type": "markdown",
   "metadata": {},
   "source": [
    "### Monte Carlo Cross-Validation\n",
    "Now repeat the process 1,000 times and provide average fit statistics, with their standard deviation."
   ]
  },
  {
   "cell_type": "code",
   "execution_count": 17,
   "metadata": {},
   "outputs": [],
   "source": [
    "#Save accuracy and kappa scores in a list\n",
    "a,k = [], []\n",
    "\n",
    "#For demonstrational purposes we now reapet it 10 times\n",
    "for i in range(0,10):\n",
    "    #Split with no random seed in train, validation and test set\n",
    "    X_train, X_test, y_train, y_test = train_test_split(X, y, train_size=0.75)\n",
    "    X_train_final, X_validation, y_train_final, y_validation = train_test_split(X_train, y_train, train_size=0.75)\n",
    "    \n",
    "    model.fit(X_train_final, y_train_final, cat_features=categorical_features_indices, \\\n",
    "              eval_set=(X_validation, y_validation), early_stopping_rounds = 80, use_best_model=True, \\\n",
    "              logging_level = \"Silent\")\n",
    "    \n",
    "    predictions = model.predict(X_test)\n",
    "    truevalues = np.array(y_test)\n",
    "    \n",
    "    a.append(accuracy_score(truevalues, predictions))\n",
    "    k.append(cohen_kappa_score(truevalues, predictions))"
   ]
  },
  {
   "cell_type": "code",
   "execution_count": 19,
   "metadata": {},
   "outputs": [
    {
     "name": "stdout",
     "output_type": "stream",
     "text": [
      "Accuracy at each cross-validation step\n",
      " [0.7892376681614349, 0.7982062780269058, 0.7847533632286996, 0.820627802690583, 0.7757847533632287, 0.7802690582959642, 0.7802690582959642, 0.8385650224215246, 0.7982062780269058, 0.7937219730941704] \n",
      "\n",
      "Kappa at each cross-validation step\n",
      " [0.5537151373216946, 0.5527875573777797, 0.558197127290738, 0.6017857142857144, 0.47613230595752676, 0.5269492185808909, 0.5269492185808909, 0.6479256205596, 0.563676681594852, 0.5705793703951775] \n",
      "\n",
      "Accuracy M 0.7960 SD 0.0187 \n",
      "\n",
      "Kappa M 0.5579 SD 0.0434\n"
     ]
    }
   ],
   "source": [
    "print(\"Accuracy at each cross-validation step\\n\", a, \"\\n\")\n",
    "print(\"Kappa at each cross-validation step\\n\", k, \"\\n\")\n",
    "print(\"Accuracy M\", '%.4f' % np.mean(a), \"SD\", '%.4f' % np.std(a), \"\\n\")\n",
    "print(\"Kappa M\", '%.4f' % np.mean(k), \"SD\", '%.4f' % np.std(k))"
   ]
  }
 ],
 "metadata": {
  "kernelspec": {
   "display_name": "Python 3",
   "language": "python",
   "name": "python3"
  },
  "language_info": {
   "codemirror_mode": {
    "name": "ipython",
    "version": 3
   },
   "file_extension": ".py",
   "mimetype": "text/x-python",
   "name": "python",
   "nbconvert_exporter": "python",
   "pygments_lexer": "ipython3",
   "version": "3.7.4"
  },
  "widgets": {
   "state": {
    "c26d03b66add4e078d26695cab837033": {
     "views": [
      {
       "cell_index": 21
      }
     ]
    }
   },
   "version": "1.2.0"
  }
 },
 "nbformat": 4,
 "nbformat_minor": 2
}
