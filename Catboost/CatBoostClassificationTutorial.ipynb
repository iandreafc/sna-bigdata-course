{
 "cells": [
  {
   "cell_type": "markdown",
   "metadata": {},
   "source": [
    "# Python Catboost Tutorial - Binary Classification"
   ]
  },
  {
   "cell_type": "markdown",
   "metadata": {},
   "source": [
    "Adapted from the Catboost repository."
   ]
  },
  {
   "cell_type": "markdown",
   "metadata": {},
   "source": [
    "### CatBoost installation\n",
    "If you have not already installed CatBoost: <br>\n",
    "pip install --upgrade catboost\n"
   ]
  },
  {
   "cell_type": "markdown",
   "metadata": {},
   "source": [
    "### Data Loading"
   ]
  },
  {
   "cell_type": "code",
   "execution_count": 1,
   "metadata": {},
   "outputs": [],
   "source": [
    "from catboost import CatBoostClassifier, Pool, cv\n",
    "from catboost.eval.catboost_evaluation import *\n",
    "\n",
    "import numpy as np\n",
    "import pandas as pd\n",
    "from collections import Counter\n",
    "from itertools import product\n",
    "\n",
    "from sklearn.model_selection import train_test_split\n",
    "from sklearn.metrics import accuracy_score, cohen_kappa_score, confusion_matrix, classification_report\n",
    "\n",
    "from imblearn.over_sampling import SMOTE, SMOTENC"
   ]
  },
  {
   "cell_type": "code",
   "execution_count": 2,
   "metadata": {},
   "outputs": [
    {
     "name": "stdout",
     "output_type": "stream",
     "text": [
      "DF shape (891, 9)\n"
     ]
    },
    {
     "data": {
      "text/html": [
       "<div>\n",
       "<style scoped>\n",
       "    .dataframe tbody tr th:only-of-type {\n",
       "        vertical-align: middle;\n",
       "    }\n",
       "\n",
       "    .dataframe tbody tr th {\n",
       "        vertical-align: top;\n",
       "    }\n",
       "\n",
       "    .dataframe thead th {\n",
       "        text-align: right;\n",
       "    }\n",
       "</style>\n",
       "<table border=\"1\" class=\"dataframe\">\n",
       "  <thead>\n",
       "    <tr style=\"text-align: right;\">\n",
       "      <th></th>\n",
       "      <th>Survived</th>\n",
       "      <th>Pclass</th>\n",
       "      <th>Sex</th>\n",
       "      <th>Age</th>\n",
       "      <th>SibSp</th>\n",
       "      <th>Parch</th>\n",
       "      <th>Fare</th>\n",
       "      <th>Cabin</th>\n",
       "      <th>Embarked</th>\n",
       "    </tr>\n",
       "  </thead>\n",
       "  <tbody>\n",
       "    <tr>\n",
       "      <th>0</th>\n",
       "      <td>0</td>\n",
       "      <td>3</td>\n",
       "      <td>male</td>\n",
       "      <td>22.0</td>\n",
       "      <td>1</td>\n",
       "      <td>0</td>\n",
       "      <td>7.2500</td>\n",
       "      <td>NaN</td>\n",
       "      <td>S</td>\n",
       "    </tr>\n",
       "    <tr>\n",
       "      <th>1</th>\n",
       "      <td>1</td>\n",
       "      <td>1</td>\n",
       "      <td>female</td>\n",
       "      <td>38.0</td>\n",
       "      <td>1</td>\n",
       "      <td>0</td>\n",
       "      <td>71.2833</td>\n",
       "      <td>C85</td>\n",
       "      <td>C</td>\n",
       "    </tr>\n",
       "    <tr>\n",
       "      <th>2</th>\n",
       "      <td>1</td>\n",
       "      <td>3</td>\n",
       "      <td>female</td>\n",
       "      <td>26.0</td>\n",
       "      <td>0</td>\n",
       "      <td>0</td>\n",
       "      <td>7.9250</td>\n",
       "      <td>NaN</td>\n",
       "      <td>S</td>\n",
       "    </tr>\n",
       "    <tr>\n",
       "      <th>3</th>\n",
       "      <td>1</td>\n",
       "      <td>1</td>\n",
       "      <td>female</td>\n",
       "      <td>35.0</td>\n",
       "      <td>1</td>\n",
       "      <td>0</td>\n",
       "      <td>53.1000</td>\n",
       "      <td>C123</td>\n",
       "      <td>S</td>\n",
       "    </tr>\n",
       "    <tr>\n",
       "      <th>4</th>\n",
       "      <td>0</td>\n",
       "      <td>3</td>\n",
       "      <td>male</td>\n",
       "      <td>35.0</td>\n",
       "      <td>0</td>\n",
       "      <td>0</td>\n",
       "      <td>8.0500</td>\n",
       "      <td>NaN</td>\n",
       "      <td>S</td>\n",
       "    </tr>\n",
       "  </tbody>\n",
       "</table>\n",
       "</div>"
      ],
      "text/plain": [
       "   Survived  Pclass     Sex   Age  SibSp  Parch     Fare Cabin Embarked\n",
       "0         0       3    male  22.0      1      0   7.2500   NaN        S\n",
       "1         1       1  female  38.0      1      0  71.2833   C85        C\n",
       "2         1       3  female  26.0      0      0   7.9250   NaN        S\n",
       "3         1       1  female  35.0      1      0  53.1000  C123        S\n",
       "4         0       3    male  35.0      0      0   8.0500   NaN        S"
      ]
     },
     "execution_count": 2,
     "metadata": {},
     "output_type": "execute_result"
    }
   ],
   "source": [
    "#Import Data\n",
    "df = pd.read_csv(\"https://raw.githubusercontent.com/iandreafc/sna-bigdata-course/master/Datasets/titanic.csv\")\n",
    "\n",
    "#See the imported dataset\n",
    "print(\"DF shape\", df.shape)\n",
    "df.head()\n"
   ]
  },
  {
   "cell_type": "markdown",
   "metadata": {},
   "source": [
    "### Feature Preparation\n",
    "First of all let's check how many missing values do we have:"
   ]
  },
  {
   "cell_type": "code",
   "execution_count": 3,
   "metadata": {},
   "outputs": [
    {
     "data": {
      "text/plain": [
       "Survived      0\n",
       "Pclass        0\n",
       "Sex           0\n",
       "Age         177\n",
       "SibSp         0\n",
       "Parch         0\n",
       "Fare          0\n",
       "Cabin       687\n",
       "Embarked      2\n",
       "dtype: int64"
      ]
     },
     "execution_count": 3,
     "metadata": {},
     "output_type": "execute_result"
    }
   ],
   "source": [
    "df.isnull().sum()"
   ]
  },
  {
   "cell_type": "markdown",
   "metadata": {},
   "source": [
    "As we cat see, **`Age`**, **`Cabin`** and **`Embarked`** indeed have some missing values, so let's fill them with some number way out of their distributions - so the model would be able to easily distinguish between them and take it into account:"
   ]
  },
  {
   "cell_type": "code",
   "execution_count": 4,
   "metadata": {},
   "outputs": [
    {
     "data": {
      "text/plain": [
       "Survived    0\n",
       "Pclass      0\n",
       "Sex         0\n",
       "Age         0\n",
       "SibSp       0\n",
       "Parch       0\n",
       "Fare        0\n",
       "Cabin       0\n",
       "Embarked    0\n",
       "dtype: int64"
      ]
     },
     "execution_count": 4,
     "metadata": {},
     "output_type": "execute_result"
    }
   ],
   "source": [
    "df.fillna(-999, inplace=True)\n",
    "df.isnull().sum()"
   ]
  },
  {
   "cell_type": "markdown",
   "metadata": {},
   "source": [
    "Now let's separate features and label variable:"
   ]
  },
  {
   "cell_type": "code",
   "execution_count": 5,
   "metadata": {},
   "outputs": [],
   "source": [
    "X = df.drop('Survived', axis=1)\n",
    "y = df.Survived"
   ]
  },
  {
   "cell_type": "markdown",
   "metadata": {},
   "source": [
    "Pay attention that our features are of differnt types - some of them are numeric, some are categorical, and some are even just strings, which normally should be handled in some specific way (for example encoded with bag-of-words representation). "
   ]
  },
  {
   "cell_type": "code",
   "execution_count": 6,
   "metadata": {},
   "outputs": [
    {
     "name": "stdout",
     "output_type": "stream",
     "text": [
      "Pclass        int64\n",
      "Sex          object\n",
      "Age         float64\n",
      "SibSp         int64\n",
      "Parch         int64\n",
      "Fare        float64\n",
      "Cabin        object\n",
      "Embarked     object\n",
      "dtype: object\n"
     ]
    },
    {
     "data": {
      "text/plain": [
       "array([0, 1, 3, 4, 6, 7], dtype=int64)"
      ]
     },
     "execution_count": 6,
     "metadata": {},
     "output_type": "execute_result"
    }
   ],
   "source": [
    "print(X.dtypes)\n",
    "\n",
    "categorical_features_indices = np.where(X.dtypes != np.float)[0]\n",
    "categorical_features_indices"
   ]
  },
  {
   "cell_type": "markdown",
   "metadata": {},
   "source": [
    "#### Encode Strings\n",
    "Not strictly necessary in Catboost, but useful for example for SMOTE."
   ]
  },
  {
   "cell_type": "code",
   "execution_count": 7,
   "metadata": {},
   "outputs": [
    {
     "data": {
      "text/html": [
       "<div>\n",
       "<style scoped>\n",
       "    .dataframe tbody tr th:only-of-type {\n",
       "        vertical-align: middle;\n",
       "    }\n",
       "\n",
       "    .dataframe tbody tr th {\n",
       "        vertical-align: top;\n",
       "    }\n",
       "\n",
       "    .dataframe thead th {\n",
       "        text-align: right;\n",
       "    }\n",
       "</style>\n",
       "<table border=\"1\" class=\"dataframe\">\n",
       "  <thead>\n",
       "    <tr style=\"text-align: right;\">\n",
       "      <th></th>\n",
       "      <th>Pclass</th>\n",
       "      <th>Sex</th>\n",
       "      <th>Age</th>\n",
       "      <th>SibSp</th>\n",
       "      <th>Parch</th>\n",
       "      <th>Fare</th>\n",
       "      <th>Cabin</th>\n",
       "      <th>Embarked</th>\n",
       "    </tr>\n",
       "  </thead>\n",
       "  <tbody>\n",
       "    <tr>\n",
       "      <th>0</th>\n",
       "      <td>3</td>\n",
       "      <td>1</td>\n",
       "      <td>22.0</td>\n",
       "      <td>1</td>\n",
       "      <td>0</td>\n",
       "      <td>7.2500</td>\n",
       "      <td>0</td>\n",
       "      <td>3</td>\n",
       "    </tr>\n",
       "    <tr>\n",
       "      <th>1</th>\n",
       "      <td>1</td>\n",
       "      <td>0</td>\n",
       "      <td>38.0</td>\n",
       "      <td>1</td>\n",
       "      <td>0</td>\n",
       "      <td>71.2833</td>\n",
       "      <td>82</td>\n",
       "      <td>1</td>\n",
       "    </tr>\n",
       "    <tr>\n",
       "      <th>2</th>\n",
       "      <td>3</td>\n",
       "      <td>0</td>\n",
       "      <td>26.0</td>\n",
       "      <td>0</td>\n",
       "      <td>0</td>\n",
       "      <td>7.9250</td>\n",
       "      <td>0</td>\n",
       "      <td>3</td>\n",
       "    </tr>\n",
       "    <tr>\n",
       "      <th>3</th>\n",
       "      <td>1</td>\n",
       "      <td>0</td>\n",
       "      <td>35.0</td>\n",
       "      <td>1</td>\n",
       "      <td>0</td>\n",
       "      <td>53.1000</td>\n",
       "      <td>56</td>\n",
       "      <td>3</td>\n",
       "    </tr>\n",
       "    <tr>\n",
       "      <th>4</th>\n",
       "      <td>3</td>\n",
       "      <td>1</td>\n",
       "      <td>35.0</td>\n",
       "      <td>0</td>\n",
       "      <td>0</td>\n",
       "      <td>8.0500</td>\n",
       "      <td>0</td>\n",
       "      <td>3</td>\n",
       "    </tr>\n",
       "  </tbody>\n",
       "</table>\n",
       "</div>"
      ],
      "text/plain": [
       "   Pclass  Sex   Age  SibSp  Parch     Fare  Cabin  Embarked\n",
       "0       3    1  22.0      1      0   7.2500      0         3\n",
       "1       1    0  38.0      1      0  71.2833     82         1\n",
       "2       3    0  26.0      0      0   7.9250      0         3\n",
       "3       1    0  35.0      1      0  53.1000     56         3\n",
       "4       3    1  35.0      0      0   8.0500      0         3"
      ]
     },
     "execution_count": 7,
     "metadata": {},
     "output_type": "execute_result"
    }
   ],
   "source": [
    "for var in ['Sex', 'Cabin', 'Embarked']:\n",
    "    X[var] = X[var].astype('category').cat.codes\n",
    "X.head()"
   ]
  },
  {
   "cell_type": "markdown",
   "metadata": {},
   "source": [
    "### Data Splitting\n",
    "Let's split the train data into training and validation sets."
   ]
  },
  {
   "cell_type": "code",
   "execution_count": 8,
   "metadata": {},
   "outputs": [],
   "source": [
    "X_train, X_test, y_train, y_test = train_test_split(X, y, train_size=0.75, random_state=14)"
   ]
  },
  {
   "cell_type": "markdown",
   "metadata": {},
   "source": [
    "### SMOTE\n",
    "Check if target var has balanced classes and use SMOTE if needed (**only on Train Set**)."
   ]
  },
  {
   "cell_type": "code",
   "execution_count": 9,
   "metadata": {},
   "outputs": [
    {
     "data": {
      "text/plain": [
       "Counter({0: 410, 1: 258})"
      ]
     },
     "execution_count": 9,
     "metadata": {},
     "output_type": "execute_result"
    }
   ],
   "source": [
    "Counter(np.array(y_train).ravel())"
   ]
  },
  {
   "cell_type": "code",
   "execution_count": 10,
   "metadata": {},
   "outputs": [
    {
     "data": {
      "text/plain": [
       "Counter({0: 410, 1: 410})"
      ]
     },
     "execution_count": 10,
     "metadata": {},
     "output_type": "execute_result"
    }
   ],
   "source": [
    "#Apply SMOTENC, since you have categorical variables\n",
    "sm = SMOTENC(categorical_features=categorical_features_indices, random_state = 14, n_jobs=-1)\n",
    "\n",
    "#Save column names\n",
    "xcol = list(X_train.columns)\n",
    "ycol = y_train.name\n",
    "\n",
    "#Apply SMOTE and convert back to Pandas\n",
    "X_train, y_train = sm.fit_resample(X_train, np.array(y_train).ravel())\n",
    "X_train = pd.DataFrame(X_train, columns= xcol)\n",
    "y_train = pd.DataFrame(y_train, columns= [ycol])\n",
    "\n",
    "#Check new class balance\n",
    "Counter(np.array(y_train).ravel())"
   ]
  },
  {
   "cell_type": "markdown",
   "metadata": {},
   "source": [
    "### Parameters Tuning"
   ]
  },
  {
   "cell_type": "code",
   "execution_count": 11,
   "metadata": {},
   "outputs": [
    {
     "name": "stdout",
     "output_type": "stream",
     "text": [
      "# Combinations: 60\n"
     ]
    }
   ],
   "source": [
    "#Define a grid of parameters to test\n",
    "grid = {'learning_rate': [0.01, 0.03, 0.1, 0.2],\n",
    "        'depth': [4, 6, 10],\n",
    "        'l2_leaf_reg': [1, 3, 5, 7, 9],\n",
    "        }\n",
    "\n",
    "#Count all possible combinations\n",
    "print(\"# Combinations:\", len([dict(zip(grid.keys(),v)) for v in product(*grid.values())]))"
   ]
  },
  {
   "cell_type": "code",
   "execution_count": 12,
   "metadata": {},
   "outputs": [
    {
     "name": "stdout",
     "output_type": "stream",
     "text": [
      "0:\tloss: 0.3304858\tbest: 0.3304858 (0)\ttotal: 1.17s\tremaining: 1m 8s\n",
      "1:\tloss: 0.3226414\tbest: 0.3226414 (1)\ttotal: 2.13s\tremaining: 1m 1s\n",
      "2:\tloss: 0.3296104\tbest: 0.3226414 (1)\ttotal: 3.07s\tremaining: 58.3s\n",
      "3:\tloss: 0.3331585\tbest: 0.3226414 (1)\ttotal: 4.06s\tremaining: 56.8s\n",
      "4:\tloss: 0.3356785\tbest: 0.3226414 (1)\ttotal: 5.05s\tremaining: 55.6s\n",
      "5:\tloss: 0.3302601\tbest: 0.3226414 (1)\ttotal: 5.93s\tremaining: 53.4s\n",
      "6:\tloss: 0.3311892\tbest: 0.3226414 (1)\ttotal: 6.93s\tremaining: 52.5s\n",
      "7:\tloss: 0.3325525\tbest: 0.3226414 (1)\ttotal: 7.85s\tremaining: 51s\n",
      "8:\tloss: 0.3403906\tbest: 0.3226414 (1)\ttotal: 8.7s\tremaining: 49.3s\n",
      "9:\tloss: 0.3278574\tbest: 0.3226414 (1)\ttotal: 9.54s\tremaining: 47.7s\n",
      "10:\tloss: 0.3280204\tbest: 0.3226414 (1)\ttotal: 10.3s\tremaining: 46.1s\n",
      "11:\tloss: 0.3287230\tbest: 0.3226414 (1)\ttotal: 11.3s\tremaining: 45.3s\n",
      "12:\tloss: 0.3419757\tbest: 0.3226414 (1)\ttotal: 12.1s\tremaining: 43.8s\n",
      "13:\tloss: 0.3321732\tbest: 0.3226414 (1)\ttotal: 13s\tremaining: 42.8s\n",
      "14:\tloss: 0.3231395\tbest: 0.3226414 (1)\ttotal: 13.9s\tremaining: 41.6s\n",
      "15:\tloss: 0.3216420\tbest: 0.3216420 (15)\ttotal: 14.8s\tremaining: 40.8s\n",
      "16:\tloss: 0.3422520\tbest: 0.3216420 (15)\ttotal: 15.7s\tremaining: 39.7s\n",
      "17:\tloss: 0.3330287\tbest: 0.3216420 (15)\ttotal: 16.6s\tremaining: 38.8s\n",
      "18:\tloss: 0.3344693\tbest: 0.3216420 (15)\ttotal: 17.4s\tremaining: 37.6s\n",
      "19:\tloss: 0.3297142\tbest: 0.3216420 (15)\ttotal: 18.3s\tremaining: 36.5s\n",
      "20:\tloss: 0.3088449\tbest: 0.3088449 (20)\ttotal: 19.5s\tremaining: 36.3s\n",
      "21:\tloss: 0.3135634\tbest: 0.3088449 (20)\ttotal: 20.8s\tremaining: 35.8s\n",
      "22:\tloss: 0.3050610\tbest: 0.3050610 (22)\ttotal: 22s\tremaining: 35.3s\n",
      "23:\tloss: 0.3129903\tbest: 0.3050610 (22)\ttotal: 23.2s\tremaining: 34.8s\n",
      "24:\tloss: 0.3130890\tbest: 0.3050610 (22)\ttotal: 24.4s\tremaining: 34.1s\n",
      "25:\tloss: 0.3154754\tbest: 0.3050610 (22)\ttotal: 25.6s\tremaining: 33.5s\n",
      "26:\tloss: 0.3172188\tbest: 0.3050610 (22)\ttotal: 26.9s\tremaining: 32.8s\n",
      "27:\tloss: 0.3175455\tbest: 0.3050610 (22)\ttotal: 28.1s\tremaining: 32.1s\n",
      "28:\tloss: 0.3153575\tbest: 0.3050610 (22)\ttotal: 29.3s\tremaining: 31.3s\n",
      "29:\tloss: 0.3142253\tbest: 0.3050610 (22)\ttotal: 30.5s\tremaining: 30.5s\n",
      "30:\tloss: 0.3174109\tbest: 0.3050610 (22)\ttotal: 31.7s\tremaining: 29.7s\n",
      "31:\tloss: 0.3156930\tbest: 0.3050610 (22)\ttotal: 32.9s\tremaining: 28.8s\n",
      "32:\tloss: 0.3232226\tbest: 0.3050610 (22)\ttotal: 34.2s\tremaining: 28s\n",
      "33:\tloss: 0.3159295\tbest: 0.3050610 (22)\ttotal: 35.4s\tremaining: 27.1s\n",
      "34:\tloss: 0.3178013\tbest: 0.3050610 (22)\ttotal: 36.7s\tremaining: 26.2s\n",
      "35:\tloss: 0.3105465\tbest: 0.3050610 (22)\ttotal: 38s\tremaining: 25.3s\n",
      "36:\tloss: 0.3253821\tbest: 0.3050610 (22)\ttotal: 39.2s\tremaining: 24.4s\n",
      "37:\tloss: 0.3147172\tbest: 0.3050610 (22)\ttotal: 40.5s\tremaining: 23.4s\n",
      "38:\tloss: 0.3139991\tbest: 0.3050610 (22)\ttotal: 41.8s\tremaining: 22.5s\n",
      "39:\tloss: 0.3239748\tbest: 0.3050610 (22)\ttotal: 43.1s\tremaining: 21.6s\n",
      "40:\tloss: 0.3102431\tbest: 0.3050610 (22)\ttotal: 52.5s\tremaining: 24.3s\n",
      "41:\tloss: 0.3047909\tbest: 0.3047909 (41)\ttotal: 1m 3s\tremaining: 27.4s\n",
      "42:\tloss: 0.2956475\tbest: 0.2956475 (42)\ttotal: 1m 15s\tremaining: 29.8s\n",
      "43:\tloss: 0.3149571\tbest: 0.2956475 (42)\ttotal: 1m 26s\tremaining: 31.5s\n",
      "44:\tloss: 0.3096233\tbest: 0.2956475 (42)\ttotal: 1m 35s\tremaining: 31.9s\n",
      "45:\tloss: 0.3066183\tbest: 0.2956475 (42)\ttotal: 1m 46s\tremaining: 32.5s\n",
      "46:\tloss: 0.3124540\tbest: 0.2956475 (42)\ttotal: 1m 58s\tremaining: 32.7s\n",
      "47:\tloss: 0.2972527\tbest: 0.2956475 (42)\ttotal: 2m 9s\tremaining: 32.4s\n",
      "48:\tloss: 0.3133715\tbest: 0.2956475 (42)\ttotal: 2m 19s\tremaining: 31.2s\n",
      "49:\tloss: 0.3079200\tbest: 0.2956475 (42)\ttotal: 2m 30s\tremaining: 30s\n",
      "50:\tloss: 0.3065554\tbest: 0.2956475 (42)\ttotal: 2m 41s\tremaining: 28.6s\n",
      "51:\tloss: 0.3120005\tbest: 0.2956475 (42)\ttotal: 2m 53s\tremaining: 26.7s\n",
      "52:\tloss: 0.3102938\tbest: 0.2956475 (42)\ttotal: 3m 3s\tremaining: 24.2s\n",
      "53:\tloss: 0.3067839\tbest: 0.2956475 (42)\ttotal: 3m 13s\tremaining: 21.6s\n",
      "54:\tloss: 0.3164111\tbest: 0.2956475 (42)\ttotal: 3m 25s\tremaining: 18.7s\n",
      "55:\tloss: 0.3218307\tbest: 0.2956475 (42)\ttotal: 3m 36s\tremaining: 15.5s\n",
      "56:\tloss: 0.3129465\tbest: 0.2956475 (42)\ttotal: 3m 46s\tremaining: 11.9s\n",
      "57:\tloss: 0.3106211\tbest: 0.2956475 (42)\ttotal: 3m 56s\tremaining: 8.17s\n",
      "58:\tloss: 0.3082056\tbest: 0.2956475 (42)\ttotal: 4m 8s\tremaining: 4.2s\n",
      "59:\tloss: 0.3255459\tbest: 0.2956475 (42)\ttotal: 4m 19s\tremaining: 0us\n",
      "Estimating final quality...\n"
     ]
    },
    {
     "data": {
      "text/plain": [
       "{'depth': 10, 'l2_leaf_reg': 1, 'learning_rate': 0.1}"
      ]
     },
     "execution_count": 12,
     "metadata": {},
     "output_type": "execute_result"
    }
   ],
   "source": [
    "#Define Model (could also use custom loss here)\n",
    "#custom_loss = [\"Accuracy\"]\n",
    "model = CatBoostClassifier()\n",
    "\n",
    "#Grid Search\n",
    "#Default cross-validation is 3-fold\n",
    "grid_search_result = model.grid_search(grid, X=X_train, y=y_train, cv=3)\n",
    "bestparam = grid_search_result[\"params\"]\n",
    "bestparam"
   ]
  },
  {
   "cell_type": "code",
   "execution_count": 13,
   "metadata": {},
   "outputs": [
    {
     "name": "stdout",
     "output_type": "stream",
     "text": [
      "{'depth': 10, 'l2_leaf_reg': 1, 'learning_rate': 0.1, 'custom_loss': 'Kappa', 'eval_metric': 'Kappa'}\n"
     ]
    }
   ],
   "source": [
    "#Set best params\n",
    "model = CatBoostClassifier()\n",
    "\n",
    "#Can define Custom Loss\n",
    "bestparam[\"custom_loss\"] = \"Kappa\"\n",
    "\n",
    "#Depending on your objective you can also customize the evaluation metric\n",
    "bestparam[\"eval_metric\"] = \"Kappa\"\n",
    "\n",
    "model.set_params(**bestparam)\n",
    "print(model.get_params())"
   ]
  },
  {
   "cell_type": "markdown",
   "metadata": {},
   "source": [
    "### Model Training\n",
    "Retaining the best model and with early stopping, to avoid overfit.\n",
    "**In real cases, we need an external test set, not used for training or validation (early stopping). That dataset is the one to be used to evaluate the final moldel.**"
   ]
  },
  {
   "cell_type": "code",
   "execution_count": 14,
   "metadata": {},
   "outputs": [
    {
     "name": "stdout",
     "output_type": "stream",
     "text": [
      "(820, 8) (615, 8) (205, 8)\n"
     ]
    }
   ],
   "source": [
    "#Furter split the train set into final_train and validation sets\n",
    "X_train_final, X_validation, y_train_final, y_validation = train_test_split(X_train, y_train,\\\n",
    "                                                                            train_size=0.75, random_state=14)\n",
    "\n",
    "print(X_train.shape, X_train_final.shape, X_validation.shape)"
   ]
  },
  {
   "cell_type": "markdown",
   "metadata": {},
   "source": [
    "Use early sotopping rounds and validation set, to stop after K iterations with no improvement of the evaluation metric."
   ]
  },
  {
   "cell_type": "code",
   "execution_count": 15,
   "metadata": {},
   "outputs": [
    {
     "name": "stdout",
     "output_type": "stream",
     "text": [
      "0:\tlearn: 0.6481358\ttest: 0.6015936\tbest: 0.6015936 (0)\ttotal: 36.6ms\tremaining: 36.5s\n",
      "1:\tlearn: 0.7237766\ttest: 0.5114537\tbest: 0.6015936 (0)\ttotal: 83ms\tremaining: 41.4s\n",
      "2:\tlearn: 0.6949018\ttest: 0.5427657\tbest: 0.6015936 (0)\ttotal: 88.4ms\tremaining: 29.4s\n",
      "3:\tlearn: 0.6882722\ttest: 0.5712757\tbest: 0.6015936 (0)\ttotal: 93.9ms\tremaining: 23.4s\n",
      "4:\tlearn: 0.7011946\ttest: 0.5617530\tbest: 0.6015936 (0)\ttotal: 129ms\tremaining: 25.6s\n",
      "5:\tlearn: 0.7499960\ttest: 0.5825252\tbest: 0.6015936 (0)\ttotal: 172ms\tremaining: 28.5s\n",
      "6:\tlearn: 0.7335552\ttest: 0.5721497\tbest: 0.6015936 (0)\ttotal: 183ms\tremaining: 26s\n",
      "7:\tlearn: 0.7467212\ttest: 0.5721497\tbest: 0.6015936 (0)\ttotal: 195ms\tremaining: 24.2s\n",
      "8:\tlearn: 0.7334961\ttest: 0.5816733\tbest: 0.6015936 (0)\ttotal: 200ms\tremaining: 22.1s\n",
      "9:\tlearn: 0.7431037\ttest: 0.5635343\tbest: 0.6015936 (0)\ttotal: 224ms\tremaining: 22.2s\n",
      "10:\tlearn: 0.7627729\ttest: 0.5928796\tbest: 0.6015936 (0)\ttotal: 254ms\tremaining: 22.8s\n",
      "11:\tlearn: 0.7561653\ttest: 0.5928796\tbest: 0.6015936 (0)\ttotal: 266ms\tremaining: 21.9s\n",
      "12:\tlearn: 0.7594965\ttest: 0.5833737\tbest: 0.6015936 (0)\ttotal: 274ms\tremaining: 20.8s\n",
      "13:\tlearn: 0.7561653\ttest: 0.5730201\tbest: 0.6015936 (0)\ttotal: 313ms\tremaining: 22s\n",
      "14:\tlearn: 0.7723451\ttest: 0.6032130\tbest: 0.6032130 (14)\ttotal: 360ms\tremaining: 23.6s\n",
      "15:\tlearn: 0.7659446\ttest: 0.6032130\tbest: 0.6032130 (14)\ttotal: 369ms\tremaining: 22.7s\n",
      "16:\tlearn: 0.7724462\ttest: 0.5833737\tbest: 0.6032130 (14)\ttotal: 398ms\tremaining: 23s\n",
      "17:\tlearn: 0.7821743\ttest: 0.5937062\tbest: 0.6032130 (14)\ttotal: 431ms\tremaining: 23.5s\n",
      "18:\tlearn: 0.7853063\ttest: 0.6032130\tbest: 0.6032130 (14)\ttotal: 470ms\tremaining: 24.3s\n",
      "19:\tlearn: 0.7918121\ttest: 0.5937062\tbest: 0.6032130 (14)\ttotal: 493ms\tremaining: 24.1s\n",
      "20:\tlearn: 0.8015489\ttest: 0.6032130\tbest: 0.6032130 (14)\ttotal: 524ms\tremaining: 24.4s\n",
      "21:\tlearn: 0.8015489\ttest: 0.6032130\tbest: 0.6032130 (14)\ttotal: 530ms\tremaining: 23.6s\n",
      "22:\tlearn: 0.8015930\ttest: 0.6032130\tbest: 0.6032130 (14)\ttotal: 556ms\tremaining: 23.6s\n",
      "23:\tlearn: 0.8047805\ttest: 0.6040178\tbest: 0.6040178 (23)\ttotal: 590ms\tremaining: 24s\n",
      "24:\tlearn: 0.8178356\ttest: 0.6135254\tbest: 0.6135254 (24)\ttotal: 616ms\tremaining: 24s\n",
      "25:\tlearn: 0.8178761\ttest: 0.6245783\tbest: 0.6245783 (25)\ttotal: 652ms\tremaining: 24.4s\n",
      "26:\tlearn: 0.8178761\ttest: 0.6245783\tbest: 0.6245783 (25)\ttotal: 652ms\tremaining: 23.5s\n",
      "27:\tlearn: 0.8179165\ttest: 0.6238169\tbest: 0.6245783 (25)\ttotal: 679ms\tremaining: 23.6s\n",
      "28:\tlearn: 0.8244195\ttest: 0.6238169\tbest: 0.6245783 (25)\ttotal: 693ms\tremaining: 23.2s\n",
      "29:\tlearn: 0.8276518\ttest: 0.6238169\tbest: 0.6245783 (25)\ttotal: 719ms\tremaining: 23.2s\n",
      "30:\tlearn: 0.8309225\ttest: 0.6238169\tbest: 0.6245783 (25)\ttotal: 730ms\tremaining: 22.8s\n",
      "31:\tlearn: 0.8309225\ttest: 0.6135254\tbest: 0.6245783 (25)\ttotal: 744ms\tremaining: 22.5s\n",
      "32:\tlearn: 0.8406593\ttest: 0.6135254\tbest: 0.6245783 (25)\ttotal: 782ms\tremaining: 22.9s\n",
      "33:\tlearn: 0.8406593\ttest: 0.6135254\tbest: 0.6245783 (25)\ttotal: 787ms\tremaining: 22.4s\n",
      "34:\tlearn: 0.8406593\ttest: 0.6135254\tbest: 0.6245783 (25)\ttotal: 828ms\tremaining: 22.8s\n",
      "35:\tlearn: 0.8374615\ttest: 0.5825252\tbest: 0.6245783 (25)\ttotal: 851ms\tremaining: 22.8s\n",
      "36:\tlearn: 0.8407653\ttest: 0.5617530\tbest: 0.6245783 (25)\ttotal: 884ms\tremaining: 23s\n",
      "37:\tlearn: 0.8407653\ttest: 0.5617530\tbest: 0.6245783 (25)\ttotal: 885ms\tremaining: 22.4s\n",
      "38:\tlearn: 0.8472647\ttest: 0.5617530\tbest: 0.6245783 (25)\ttotal: 930ms\tremaining: 22.9s\n",
      "39:\tlearn: 0.8569979\ttest: 0.5816733\tbest: 0.6245783 (25)\ttotal: 965ms\tremaining: 23.2s\n",
      "40:\tlearn: 0.8569979\ttest: 0.5608569\tbest: 0.6245783 (25)\ttotal: 1s\tremaining: 23.4s\n",
      "41:\tlearn: 0.8569979\ttest: 0.5608569\tbest: 0.6245783 (25)\ttotal: 1.01s\tremaining: 23.1s\n",
      "42:\tlearn: 0.8569662\ttest: 0.5712757\tbest: 0.6245783 (25)\ttotal: 1.04s\tremaining: 23.3s\n",
      "43:\tlearn: 0.8699692\ttest: 0.5808179\tbest: 0.6245783 (25)\ttotal: 1.07s\tremaining: 23.2s\n",
      "44:\tlearn: 0.8699692\ttest: 0.5712757\tbest: 0.6245783 (25)\ttotal: 1.11s\tremaining: 23.5s\n",
      "45:\tlearn: 0.8764982\ttest: 0.5712757\tbest: 0.6245783 (25)\ttotal: 1.14s\tremaining: 23.7s\n",
      "46:\tlearn: 0.8699981\ttest: 0.5712757\tbest: 0.6245783 (25)\ttotal: 1.17s\tremaining: 23.8s\n",
      "47:\tlearn: 0.8699981\ttest: 0.5712757\tbest: 0.6245783 (25)\ttotal: 1.19s\tremaining: 23.6s\n",
      "48:\tlearn: 0.8829723\ttest: 0.5712757\tbest: 0.6245783 (25)\ttotal: 1.24s\tremaining: 24.1s\n",
      "49:\tlearn: 0.8829723\ttest: 0.5712757\tbest: 0.6245783 (25)\ttotal: 1.28s\tremaining: 24.3s\n",
      "50:\tlearn: 0.8829723\ttest: 0.5712757\tbest: 0.6245783 (25)\ttotal: 1.28s\tremaining: 23.9s\n",
      "51:\tlearn: 0.8829723\ttest: 0.5712757\tbest: 0.6245783 (25)\ttotal: 1.3s\tremaining: 23.8s\n",
      "52:\tlearn: 0.8862105\ttest: 0.5608569\tbest: 0.6245783 (25)\ttotal: 1.34s\tremaining: 24s\n",
      "53:\tlearn: 0.8862105\ttest: 0.5608569\tbest: 0.6245783 (25)\ttotal: 1.37s\tremaining: 24s\n",
      "54:\tlearn: 0.8862105\ttest: 0.5608569\tbest: 0.6245783 (25)\ttotal: 1.37s\tremaining: 23.6s\n",
      "55:\tlearn: 0.8862105\ttest: 0.5608569\tbest: 0.6245783 (25)\ttotal: 1.4s\tremaining: 23.6s\n",
      "56:\tlearn: 0.8862105\ttest: 0.5608569\tbest: 0.6245783 (25)\ttotal: 1.42s\tremaining: 23.4s\n",
      "57:\tlearn: 0.8894739\ttest: 0.5608569\tbest: 0.6245783 (25)\ttotal: 1.44s\tremaining: 23.4s\n",
      "58:\tlearn: 0.8894739\ttest: 0.5703982\tbest: 0.6245783 (25)\ttotal: 1.49s\tremaining: 23.7s\n",
      "59:\tlearn: 0.8927127\ttest: 0.5703982\tbest: 0.6245783 (25)\ttotal: 1.52s\tremaining: 23.8s\n",
      "60:\tlearn: 0.8927127\ttest: 0.5703982\tbest: 0.6245783 (25)\ttotal: 1.55s\tremaining: 23.9s\n",
      "61:\tlearn: 0.8927127\ttest: 0.5703982\tbest: 0.6245783 (25)\ttotal: 1.57s\tremaining: 23.8s\n",
      "62:\tlearn: 0.8992150\ttest: 0.5703982\tbest: 0.6245783 (25)\ttotal: 1.61s\tremaining: 24s\n",
      "63:\tlearn: 0.8959523\ttest: 0.5703982\tbest: 0.6245783 (25)\ttotal: 1.65s\tremaining: 24.1s\n",
      "64:\tlearn: 0.9024553\ttest: 0.5808179\tbest: 0.6245783 (25)\ttotal: 1.69s\tremaining: 24.3s\n",
      "65:\tlearn: 0.8992150\ttest: 0.5703982\tbest: 0.6245783 (25)\ttotal: 1.71s\tremaining: 24.2s\n",
      "66:\tlearn: 0.8992150\ttest: 0.5703982\tbest: 0.6245783 (25)\ttotal: 1.75s\tremaining: 24.3s\n",
      "67:\tlearn: 0.9024553\ttest: 0.5703982\tbest: 0.6245783 (25)\ttotal: 1.77s\tremaining: 24.3s\n",
      "68:\tlearn: 0.9089583\ttest: 0.5808179\tbest: 0.6245783 (25)\ttotal: 1.81s\tremaining: 24.4s\n",
      "69:\tlearn: 0.9089583\ttest: 0.5808179\tbest: 0.6245783 (25)\ttotal: 1.82s\tremaining: 24.2s\n",
      "70:\tlearn: 0.9089583\ttest: 0.5608569\tbest: 0.6245783 (25)\ttotal: 1.87s\tremaining: 24.5s\n",
      "71:\tlearn: 0.9122000\ttest: 0.5703982\tbest: 0.6245783 (25)\ttotal: 1.91s\tremaining: 24.6s\n",
      "72:\tlearn: 0.9122195\ttest: 0.5703982\tbest: 0.6245783 (25)\ttotal: 1.95s\tremaining: 24.7s\n",
      "73:\tlearn: 0.9122195\ttest: 0.5608569\tbest: 0.6245783 (25)\ttotal: 1.99s\tremaining: 24.9s\n",
      "74:\tlearn: 0.9187037\ttest: 0.5703982\tbest: 0.6245783 (25)\ttotal: 2.03s\tremaining: 25s\n",
      "75:\tlearn: 0.9154425\ttest: 0.5703982\tbest: 0.6245783 (25)\ttotal: 2.07s\tremaining: 25.2s\n",
      "76:\tlearn: 0.9154425\ttest: 0.5703982\tbest: 0.6245783 (25)\ttotal: 2.08s\tremaining: 24.9s\n",
      "77:\tlearn: 0.9154425\ttest: 0.5703982\tbest: 0.6245783 (25)\ttotal: 2.1s\tremaining: 24.8s\n",
      "78:\tlearn: 0.9187037\ttest: 0.5608569\tbest: 0.6245783 (25)\ttotal: 2.13s\tremaining: 24.9s\n",
      "79:\tlearn: 0.9187037\ttest: 0.5712757\tbest: 0.6245783 (25)\ttotal: 2.17s\tremaining: 25s\n",
      "80:\tlearn: 0.9414732\ttest: 0.5703982\tbest: 0.6245783 (25)\ttotal: 2.22s\tremaining: 25.2s\n",
      "81:\tlearn: 0.9447308\ttest: 0.5608569\tbest: 0.6245783 (25)\ttotal: 2.26s\tremaining: 25.3s\n",
      "82:\tlearn: 0.9447308\ttest: 0.5712757\tbest: 0.6245783 (25)\ttotal: 2.31s\tremaining: 25.5s\n",
      "83:\tlearn: 0.9414732\ttest: 0.5808179\tbest: 0.6245783 (25)\ttotal: 2.34s\tremaining: 25.6s\n",
      "84:\tlearn: 0.9447308\ttest: 0.5903796\tbest: 0.6245783 (25)\ttotal: 2.39s\tremaining: 25.7s\n",
      "85:\tlearn: 0.9447185\ttest: 0.6007790\tbest: 0.6245783 (25)\ttotal: 2.43s\tremaining: 25.8s\n",
      "86:\tlearn: 0.9512222\ttest: 0.5903796\tbest: 0.6245783 (25)\ttotal: 2.46s\tremaining: 25.9s\n",
      "87:\tlearn: 0.9512222\ttest: 0.5712757\tbest: 0.6245783 (25)\ttotal: 2.5s\tremaining: 25.9s\n",
      "88:\tlearn: 0.9544791\ttest: 0.5617530\tbest: 0.6245783 (25)\ttotal: 2.54s\tremaining: 26s\n",
      "89:\tlearn: 0.9544791\ttest: 0.5626455\tbest: 0.6245783 (25)\ttotal: 2.58s\tremaining: 26.1s\n",
      "90:\tlearn: 0.9544791\ttest: 0.5626455\tbest: 0.6245783 (25)\ttotal: 2.63s\tremaining: 26.3s\n",
      "91:\tlearn: 0.9577259\ttest: 0.5626455\tbest: 0.6245783 (25)\ttotal: 2.67s\tremaining: 26.4s\n",
      "92:\tlearn: 0.9674706\ttest: 0.5626455\tbest: 0.6245783 (25)\ttotal: 2.72s\tremaining: 26.6s\n",
      "93:\tlearn: 0.9674706\ttest: 0.5626455\tbest: 0.6245783 (25)\ttotal: 2.77s\tremaining: 26.7s\n",
      "94:\tlearn: 0.9674706\ttest: 0.5617530\tbest: 0.6245783 (25)\ttotal: 2.82s\tremaining: 26.9s\n",
      "95:\tlearn: 0.9707203\ttest: 0.5617530\tbest: 0.6245783 (25)\ttotal: 2.86s\tremaining: 27s\n",
      "96:\tlearn: 0.9707203\ttest: 0.5617530\tbest: 0.6245783 (25)\ttotal: 2.9s\tremaining: 27s\n"
     ]
    },
    {
     "name": "stdout",
     "output_type": "stream",
     "text": [
      "97:\tlearn: 0.9739707\ttest: 0.5617530\tbest: 0.6245783 (25)\ttotal: 2.95s\tremaining: 27.1s\n",
      "98:\tlearn: 0.9739707\ttest: 0.5522497\tbest: 0.6245783 (25)\ttotal: 2.99s\tremaining: 27.2s\n",
      "99:\tlearn: 0.9739707\ttest: 0.5418327\tbest: 0.6245783 (25)\ttotal: 3.04s\tremaining: 27.3s\n",
      "100:\tlearn: 0.9739707\ttest: 0.5418327\tbest: 0.6245783 (25)\ttotal: 3.08s\tremaining: 27.5s\n",
      "101:\tlearn: 0.9739707\ttest: 0.5418327\tbest: 0.6245783 (25)\ttotal: 3.11s\tremaining: 27.4s\n",
      "102:\tlearn: 0.9739707\ttest: 0.5617530\tbest: 0.6245783 (25)\ttotal: 3.15s\tremaining: 27.5s\n",
      "103:\tlearn: 0.9739707\ttest: 0.5513351\tbest: 0.6245783 (25)\ttotal: 3.19s\tremaining: 27.5s\n",
      "104:\tlearn: 0.9739707\ttest: 0.5513351\tbest: 0.6245783 (25)\ttotal: 3.23s\tremaining: 27.5s\n",
      "105:\tlearn: 0.9772269\ttest: 0.5617530\tbest: 0.6245783 (25)\ttotal: 3.27s\tremaining: 27.6s\n",
      "Stopped by overfitting detector  (80 iterations wait)\n",
      "\n",
      "bestTest = 0.6245783133\n",
      "bestIteration = 25\n",
      "\n",
      "Shrink model to first 26 iterations.\n"
     ]
    },
    {
     "data": {
      "text/plain": [
       "<catboost.core.CatBoostClassifier at 0x24538a1da08>"
      ]
     },
     "execution_count": 15,
     "metadata": {},
     "output_type": "execute_result"
    }
   ],
   "source": [
    "model.fit(X_train_final, y_train_final, cat_features=categorical_features_indices, eval_set=(X_validation, y_validation), \\\n",
    "                   early_stopping_rounds = 80, use_best_model=True, logging_level = \"Verbose\", plot=False)\n"
   ]
  },
  {
   "cell_type": "markdown",
   "metadata": {},
   "source": [
    "With this we can see that the best **Kappa** value of **0.6246** (on validation set) was acheived at step **25** with no futher improvement after **80** iterations (so the training stopped). We now retain this model as the **best model**."
   ]
  },
  {
   "cell_type": "markdown",
   "metadata": {},
   "source": [
    "### Model Predictions and Fit"
   ]
  },
  {
   "cell_type": "code",
   "execution_count": 16,
   "metadata": {},
   "outputs": [
    {
     "name": "stdout",
     "output_type": "stream",
     "text": [
      "[[116  23]\n",
      " [ 19  65]]\n",
      "              precision    recall  f1-score   support\n",
      "\n",
      "           0       0.86      0.83      0.85       139\n",
      "           1       0.74      0.77      0.76        84\n",
      "\n",
      "    accuracy                           0.81       223\n",
      "   macro avg       0.80      0.80      0.80       223\n",
      "weighted avg       0.81      0.81      0.81       223\n",
      "\n",
      "ACCURACY: 0.8117\n",
      "COHEN'S KAPPA: 0.6027\n"
     ]
    }
   ],
   "source": [
    "#Predict on the original Test Set\n",
    "predictions = model.predict(X_test)\n",
    "truevalues = np.array(y_test)\n",
    "\n",
    "#Confusion Matrix\n",
    "print(confusion_matrix(truevalues,predictions))\n",
    "\n",
    "#Classificatiion Report\n",
    "print(classification_report(truevalues,predictions))\n",
    "\n",
    "#Cohen's Kappa\n",
    "print(\"ACCURACY:\", '%.4f' % accuracy_score(truevalues, predictions))\n",
    "print(\"COHEN'S KAPPA:\", '%.4f' % cohen_kappa_score(truevalues, predictions))"
   ]
  },
  {
   "cell_type": "markdown",
   "metadata": {},
   "source": [
    "### Monte Carlo Cross-Validation\n",
    "Now repeat the process 1,000 times and provide average fit statistics, with their standard deviation."
   ]
  },
  {
   "cell_type": "code",
   "execution_count": 17,
   "metadata": {},
   "outputs": [],
   "source": [
    "#Save accuracy and kappa scores in a list\n",
    "a,k = [], []\n",
    "\n",
    "#For demonstrational purposes we now reapet it 10 times\n",
    "for i in range(0,10):\n",
    "    #Split with no random seed in train, validation and test set\n",
    "    X_train, X_test, y_train, y_test = train_test_split(X, y, train_size=0.75)\n",
    "    X_train_final, X_validation, y_train_final, y_validation = train_test_split(X_train, y_train, train_size=0.75)\n",
    "    \n",
    "    model.fit(X_train_final, y_train_final, cat_features=categorical_features_indices, \\\n",
    "              eval_set=(X_validation, y_validation), early_stopping_rounds = 80, use_best_model=True, \\\n",
    "              logging_level = \"Silent\")\n",
    "    \n",
    "    predictions = model.predict(X_test)\n",
    "    truevalues = np.array(y_test)\n",
    "    \n",
    "    a.append(accuracy_score(truevalues, predictions))\n",
    "    k.append(cohen_kappa_score(truevalues, predictions))"
   ]
  },
  {
   "cell_type": "code",
   "execution_count": 18,
   "metadata": {},
   "outputs": [
    {
     "name": "stdout",
     "output_type": "stream",
     "text": [
      "Accuracy at each cross-validation step\n",
      " [0.7713004484304933, 0.8340807174887892, 0.8251121076233184, 0.7757847533632287, 0.7892376681614349, 0.8161434977578476, 0.8385650224215246, 0.8251121076233184, 0.7847533632286996, 0.7713004484304933] \n",
      "\n",
      "Kappa at each cross-validation step\n",
      " [0.5172955307499683, 0.6471066250374236, 0.5923981815625439, 0.5071169657855186, 0.5254674695522252, 0.6046270270270271, 0.6458756065284517, 0.6124158830607425, 0.5395336832143165, 0.5133712720893414] \n",
      "\n",
      "Accuracy M 0.8031 SD 0.0258 \n",
      "\n",
      "Kappa M 0.5705208244607559 SD 0.0530\n"
     ]
    }
   ],
   "source": [
    "print(\"Accuracy at each cross-validation step\\n\", a, \"\\n\")\n",
    "print(\"Kappa at each cross-validation step\\n\", k, \"\\n\")\n",
    "print(\"Accuracy M\", '%.4f' % np.mean(a), \"SD\", '%.4f' % np.std(a), \"\\n\")\n",
    "print(\"Kappa M\", np.mean(k), \"SD\", '%.4f' % np.std(k))"
   ]
  }
 ],
 "metadata": {
  "kernelspec": {
   "display_name": "Python 3",
   "language": "python",
   "name": "python3"
  },
  "language_info": {
   "codemirror_mode": {
    "name": "ipython",
    "version": 3
   },
   "file_extension": ".py",
   "mimetype": "text/x-python",
   "name": "python",
   "nbconvert_exporter": "python",
   "pygments_lexer": "ipython3",
   "version": "3.7.4"
  },
  "widgets": {
   "state": {
    "c26d03b66add4e078d26695cab837033": {
     "views": [
      {
       "cell_index": 21
      }
     ]
    }
   },
   "version": "1.2.0"
  }
 },
 "nbformat": 4,
 "nbformat_minor": 2
}
